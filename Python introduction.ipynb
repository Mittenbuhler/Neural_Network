{
 "cells": [
  {
   "cell_type": "markdown",
   "metadata": {},
   "source": [
    "# Introduction to Neural Networks\n",
    "from: https://www.python-course.eu/neural_networks.php\n",
    "\n",
    "ANNs work the same way as neurons in the brain: they consists of many nodes (i.e. somas) that receive inputs from other nodes (i.e. dendrites). Every node has weights each input individually, then adds up the sum of all weighted inputs. If this value is above a certain threshold that is an attribute of the node, it will 'fire' to the next nodes (i.e. axons)."
   ]
  },
  {
   "cell_type": "markdown",
   "metadata": {},
   "source": [
    "### 1. Building principle\n",
    "The following code initializes a small neural network that performs an `AND` operator."
   ]
  },
  {
   "cell_type": "code",
   "execution_count": 8,
   "metadata": {},
   "outputs": [
    {
     "name": "stdout",
     "output_type": "stream",
     "text": [
      "[0 0] 0\n",
      "[1 0] 0\n",
      "[0 1] 0\n",
      "[1 1] 1\n"
     ]
    }
   ],
   "source": [
    "import numpy as np\n",
    "\n",
    "class Perceptron:\n",
    "    \n",
    "    def __init__(self, input_length, weights=None):# If we call the class, we initiate a new incident with the attribute 'weights'\n",
    "        if weights is None:\n",
    "            self.weights = np.ones(input_length) * 0.5\n",
    "        else:\n",
    "            self.weights = weights\n",
    "            \n",
    "    @staticmethod\n",
    "    def unit_step_function(x): # Check if value is higher than 0.5 (this is the threshold)\n",
    "        if x > 0.5:\n",
    "            return 1\n",
    "        return 0\n",
    "    \n",
    "    def __call__(self, in_data): # Here, we multiply the weights with the input and take the sum (i.e. we compute the value of the node)\n",
    "        weighted_input = self.weights * in_data\n",
    "        weighted_sum = weighted_input.sum()\n",
    "        return Perceptron.unit_step_function(weighted_sum) # Then we check if it is higher than 0.5\n",
    "    \n",
    "p = Perceptron(2, np.array([0.5,0.5])) # We initialize a neural network with 2 nodes, and each with a weight of 0.5\n",
    "\n",
    "# Now we try different inputs\n",
    "for x in [np.array([0,0]),np.array([1,0]),np.array([0,1]),np.array([1,1])]:\n",
    "    y = p(x) # compute the output of the neural network with each input\n",
    "    print(x, y)"
   ]
  },
  {
   "cell_type": "markdown",
   "metadata": {},
   "source": [
    "### 2. Line separation\n",
    "The following code initializes _and trains_ a NN to seperate two classes in a two-dimensional space. Each node represents one dimension.\n",
    "\n",
    "The decision boundary of the NN is where $x_1w_1 + x_2w_2 = 0$\n",
    "\n",
    "This again corresponds to $x_2 = -\\frac{w_1}{w_2}x_1$ which is the function of a straight line through the origin."
   ]
  },
  {
   "cell_type": "code",
   "execution_count": 75,
   "metadata": {},
   "outputs": [
    {
     "name": "stdout",
     "output_type": "stream",
     "text": [
      "[('correct', 93), ('wrong', 7)]\n"
     ]
    }
   ],
   "source": [
    "from collections import Counter\n",
    "\n",
    "class Perceptron:\n",
    "    \n",
    "    def __init__(self, input_length, weights=None):# If we call the class, we initiate a new incident with the attribute 'weights'\n",
    "        if weights == None:\n",
    "            self.weights = np.random.random((input_length)) * 2 - 1 # random number between -1 and 1 (from uniform dist)\n",
    "        self.learning_rate = 0.1\n",
    "            \n",
    "    @staticmethod\n",
    "    def unit_step_function(x): # Fire if value is at least 0\n",
    "        if x < 0:\n",
    "            return 0\n",
    "        return 1\n",
    "    \n",
    "    def __call__(self, in_data): # Here, we multiply the weights with the input and take the sum (i.e. we compute the value of the node)\n",
    "        weighted_input = self.weights * in_data\n",
    "        weighted_sum = weighted_input.sum()\n",
    "        return Perceptron.unit_step_function(weighted_sum) # Then we check if it is higher than 0.5\n",
    "    \n",
    "    def adjust(self, target, prediction, in_data): # Very basic learning function\n",
    "        error = target - prediction\n",
    "        for i in range(len(in_data)): # for each weight\n",
    "            correction = error * in_data[i] * self.learning_rate\n",
    "            self.weights[i] += correction # add to each weight the error weighted by the datapoint and the step size\n",
    "\n",
    "            \n",
    "points = np.random.randint(1, 100, (100, 2)) # generate some points to classify\n",
    "def lin1(x): # line that separates/classifies the points\n",
    "    return x + 4\n",
    "def above_line(point, line_func): # this function classifies the points as being above the line (1) or below (0)\n",
    "    x, y = point\n",
    "    if y > line_func(x):\n",
    "        return 1\n",
    "    else:\n",
    "        return 0\n",
    "\n",
    "\n",
    "p = Perceptron(2) # initialize NN with two nodes\n",
    "\n",
    "for point in points:\n",
    "    p.adjust(above_line(point, lin1), p(point), point)\n",
    "\n",
    "evaluation = Counter()\n",
    "    \n",
    "for point in points:\n",
    "    if p(point) == above_line(point, lin1):\n",
    "        evaluation['correct'] += 1\n",
    "    else:\n",
    "        evaluation['wrong'] += 1\n",
    "        \n",
    "print(evaluation.most_common()) # more wrong or more correct?"
   ]
  },
  {
   "cell_type": "code",
   "execution_count": 70,
   "metadata": {
    "scrolled": true
   },
   "outputs": [
    {
     "name": "stdout",
     "output_type": "stream",
     "text": [
      "slope: 1.0566580698650652\n"
     ]
    },
    {
     "data": {
      "image/png": "[encoded data removed]",
      "text/plain": [
       "<Figure size 432x288 with 1 Axes>"
      ]
     },
     "metadata": {
      "needs_background": "light"
     },
     "output_type": "display_data"
    }
   ],
   "source": [
    "# Let's see how good the decision boundary of our NN can distinguish between the classes \n",
    "# (in comparison to the true boundary)\n",
    "%matplotlib inline \n",
    "from matplotlib import pyplot as plt\n",
    "\n",
    "cls = [[], []]\n",
    "for point in points:\n",
    "    cls[above_line(point, lin1)].append(tuple(point))\n",
    "colours = (\"r\", \"b\")\n",
    "\n",
    "for i in range(2):\n",
    "    X, Y = zip(*cls[i])\n",
    "    plt.scatter(X, Y, c=colours[i])\n",
    "    \n",
    "X = np.arange(-3, 120)\n",
    "    \n",
    "m = -p.weights[0] / p.weights[1]\n",
    "print('slope: ' + str(m))\n",
    "\n",
    "plt.plot(X, m*X, label=\"ANN line\")\n",
    "plt.plot(X, lin1(X), label=\"line1\")\n",
    "plt.legend()\n",
    "plt.show()"
   ]
  },
  {
   "cell_type": "markdown",
   "metadata": {},
   "source": [
    "### 3. Linearly inseperable NNs\n",
    "If a single line is not enough to separate two classes (for example in the XOR case), we need an additional 'hidden' layer."
   ]
  },
  {
   "cell_type": "markdown",
   "metadata": {},
   "source": [
    "### 4. Bias\n",
    "In some cases, a line through the origin cannot separate two classes (e.g., when one class is scattered around the origin). In that case we need a __bias__ (i.e. an intercept). A bias is a node that does not receive any input - its output just depends on its weight.\n",
    "\n",
    "$x_1w_1 + x_2w_2 + bw_3 = 0$\n",
    "\n",
    "$x_2 = -\\frac{w_1}{w_2}x_1 -\\frac{w_3}{w_2}b$"
   ]
  },
  {
   "cell_type": "code",
   "execution_count": 74,
   "metadata": {},
   "outputs": [
    {
     "data": {
      "image/png": "[encoded data removed]",
      "text/plain": [
       "<Figure size 432x288 with 1 Axes>"
      ]
     },
     "metadata": {
      "needs_background": "light"
     },
     "output_type": "display_data"
    }
   ],
   "source": [
    "# Generate some data, that cannot be separated by a line through the origin\n",
    "npoints = 50\n",
    "X, Y = [], []\n",
    "# class 0\n",
    "X.append(np.random.uniform(low=-2.5, high=2.3, size=(npoints,)) )\n",
    "Y.append(np.random.uniform(low=-1.7, high=2.8, size=(npoints,)))\n",
    "# class 1\n",
    "X.append(np.random.uniform(low=-7.2, high=-4.4, size=(npoints,)) )\n",
    "Y.append(np.random.uniform(low=3, high=6.5, size=(npoints,)))\n",
    "learnset = []\n",
    "for i in range(2):\n",
    "    # adding points of class i to learnset\n",
    "    points = zip(X[i], Y[i])\n",
    "    for p in points:\n",
    "        learnset.append((p, i))\n",
    "colours = [\"b\", \"r\"]\n",
    "for i in range(2):\n",
    "    plt.scatter(X[i], Y[i], c=colours[i])"
   ]
  },
  {
   "cell_type": "code",
   "execution_count": 79,
   "metadata": {},
   "outputs": [],
   "source": [
    "# Define new class that takes into account bias:\n",
    "class Perceptron:\n",
    "    \n",
    "    def __init__(self, input_length, weights=None):\n",
    "        if weights==None:\n",
    "            self.weights = np.random.random((input_length + 1)) * 2 - 1 # + 1 because bias needs a weight as well\n",
    "        self.learning_rate = 0.05\n",
    "        self.bias = 1 # define bias (number does not matter, I guess)\n",
    "    \n",
    "    @staticmethod\n",
    "    def sigmoid_function(x): # sigmoid function as threshold (sigmoid is used as link function to fit betwenn 0 and 1)\n",
    "        res = 1 / (1 + np.power(np.e, -x))\n",
    "        return 0 if res < 0.5 else 1\n",
    "        \n",
    "    def __call__(self, in_data): # compute output and check if its above or below 0.5 in the sigmoid function\n",
    "        weighted_input = self.weights[:-1] * in_data # no input for the bias\n",
    "        weighted_sum = weighted_input.sum() + self.bias * self.weights[-1]\n",
    "        return Perceptron.sigmoid_function(weighted_sum)\n",
    "    \n",
    "    def adjust(self, target, prediction, in_data):\n",
    "        error = target - prediction\n",
    "        for i in range(len(in_data)):\n",
    "            correction = error * in_data[i] * self.learning_rate\n",
    "            self.weights[i] += correction \n",
    "        correction = error * self.bias * self.learning_rate # correct bias\n",
    "        self.weights[-1] += correction "
   ]
  },
  {
   "cell_type": "code",
   "execution_count": 89,
   "metadata": {},
   "outputs": [
    {
     "name": "stdout",
     "output_type": "stream",
     "text": [
      "[('correct', 100)]\n"
     ]
    }
   ],
   "source": [
    "# Train NN:\n",
    "p = Perceptron(2) # initialize NN\n",
    "\n",
    "for point, label in learnset: # train NN\n",
    "    p.adjust(label, p(point), point) \n",
    "    \n",
    "evaluation = Counter() # evlauate NN\n",
    "for point, label in learnset:\n",
    "    if p(point) == label:\n",
    "        evaluation[\"correct\"] += 1\n",
    "    else:\n",
    "        evaluation[\"wrong\"] += 1\n",
    "print(evaluation.most_common())"
   ]
  },
  {
   "cell_type": "code",
   "execution_count": 90,
   "metadata": {},
   "outputs": [
    {
     "name": "stdout",
     "output_type": "stream",
     "text": [
      "30.56138278128663 84.63319115221464\n"
     ]
    },
    {
     "data": {
      "image/png": "[encoded data removed]",
      "text/plain": [
       "<Figure size 432x288 with 1 Axes>"
      ]
     },
     "metadata": {
      "needs_background": "light"
     },
     "output_type": "display_data"
    }
   ],
   "source": [
    "# Plot NN:\n",
    "colours = [\"b\", \"r\"]\n",
    "for i in range(2):\n",
    "    plt.scatter(X[i], Y[i], c=colours[i])\n",
    "XR = np.arange(-8, 4)  \n",
    "m = -p.weights[0] / p.weights[1]\n",
    "b = -p.weights[-1]/p.weights[1]\n",
    "print(m, b)\n",
    "plt.plot(XR, m*XR + b, label=\"decision boundary\")\n",
    "plt.legend()\n",
    "plt.show()"
   ]
  },
  {
   "cell_type": "code",
   "execution_count": null,
   "metadata": {},
   "outputs": [],
   "source": []
  }
 ],
 "metadata": {
  "kernelspec": {
   "display_name": "Python 3",
   "language": "python",
   "name": "python3"
  },
  "language_info": {
   "codemirror_mode": {
    "name": "ipython",
    "version": 3
   },
   "file_extension": ".py",
   "mimetype": "text/x-python",
   "name": "python",
   "nbconvert_exporter": "python",
   "pygments_lexer": "ipython3",
   "version": "3.7.1"
  }
 },
 "nbformat": 4,
 "nbformat_minor": 2
}
