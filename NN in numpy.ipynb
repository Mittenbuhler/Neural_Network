{
 "cells": [
  {
   "cell_type": "code",
   "execution_count": 6,
   "metadata": {},
   "outputs": [],
   "source": [
    "class NeuralNetwork:\n",
    "              \n",
    "    def sigmoid(x):\n",
    "        pass\n",
    "    \n",
    "    def ReLU(x):\n",
    "        pass\n",
    "    \n",
    "    def __init__(self, n_input_nodes, n_hidden_layers, n_hidden_nodes, n_output_nodes, #n_hidden_nodes can also be vector for more than one hidden layer\n",
    "                 activation_function=sigmoid, weights=None, dropout=False, bias=False):\n",
    "        self.n_input_nodes = n_input_nodes\n",
    "        self.n_hidden_layers = n_hidden_layers\n",
    "        self.n_hidden_nodes = n_hidden_nodes\n",
    "        self.n_output_nodes = n_output_nodes\n",
    "        self.weights = initial_weights()\n",
    "    \n",
    "    def initial_weights(self):\n",
    "        pass\n",
    "    \n",
    "    def train(self, input_data, target):\n",
    "        pass\n",
    "    \n",
    "    def evaluate(self, input_data, target, performance_measure=True):\n",
    "        pass"
   ]
  },
  {
   "cell_type": "code",
   "execution_count": null,
   "metadata": {},
   "outputs": [],
   "source": []
  }
 ],
 "metadata": {
  "kernelspec": {
   "display_name": "Python 3",
   "language": "python",
   "name": "python3"
  },
  "language_info": {
   "codemirror_mode": {
    "name": "ipython",
    "version": 3
   },
   "file_extension": ".py",
   "mimetype": "text/x-python",
   "name": "python",
   "nbconvert_exporter": "python",
   "pygments_lexer": "ipython3",
   "version": "3.7.1"
  }
 },
 "nbformat": 4,
 "nbformat_minor": 2
}
