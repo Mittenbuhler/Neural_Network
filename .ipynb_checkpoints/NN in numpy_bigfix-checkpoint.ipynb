{
 "cells": [
  {
   "cell_type": "code",
   "execution_count": 371,
   "metadata": {},
   "outputs": [],
   "source": [
    "import numpy as np\n",
    "import pandas as pd\n",
    "import os\n",
    "import pandas as pd\n",
    "import matplotlib.pyplot as plt\n",
    "os.chdir('/Users/Max/Documents/Studium/Master/Semester 2/Programming/Scripts')"
   ]
  },
  {
   "cell_type": "code",
   "execution_count": 3,
   "metadata": {},
   "outputs": [
    {
     "name": "stdout",
     "output_type": "stream",
     "text": [
      "(60000, 28, 28)\n",
      "(60000, 10)\n"
     ]
    },
    {
     "data": {
      "image/png": "[encoded data removed]",
      "text/plain": [
       "<Figure size 432x288 with 1 Axes>"
      ]
     },
     "metadata": {
      "needs_background": "light"
     },
     "output_type": "display_data"
    },
    {
     "name": "stdout",
     "output_type": "stream",
     "text": [
      "[0.01 0.01 0.01 0.01 0.01 0.99 0.01 0.01 0.01 0.01]\n"
     ]
    },
    {
     "data": {
      "image/png": "[encoded data removed]",
      "text/plain": [
       "<Figure size 432x288 with 1 Axes>"
      ]
     },
     "metadata": {
      "needs_background": "light"
     },
     "output_type": "display_data"
    },
    {
     "name": "stdout",
     "output_type": "stream",
     "text": [
      "[0.01 0.01 0.01 0.01 0.01 0.01 0.01 0.99 0.01 0.01]\n"
     ]
    },
    {
     "data": {
      "image/png": "[encoded data removed]",
      "text/plain": [
       "<Figure size 432x288 with 1 Axes>"
      ]
     },
     "metadata": {
      "needs_background": "light"
     },
     "output_type": "display_data"
    },
    {
     "name": "stdout",
     "output_type": "stream",
     "text": [
      "[0.01 0.99 0.01 0.01 0.01 0.01 0.01 0.01 0.01 0.01]\n"
     ]
    },
    {
     "data": {
      "image/png": "[encoded data removed]",
      "text/plain": [
       "<Figure size 432x288 with 1 Axes>"
      ]
     },
     "metadata": {
      "needs_background": "light"
     },
     "output_type": "display_data"
    },
    {
     "name": "stdout",
     "output_type": "stream",
     "text": [
      "[0.01 0.01 0.01 0.01 0.01 0.01 0.01 0.99 0.01 0.01]\n"
     ]
    },
    {
     "data": {
      "image/png": "[encoded data removed]",
      "text/plain": [
       "<Figure size 432x288 with 1 Axes>"
      ]
     },
     "metadata": {
      "needs_background": "light"
     },
     "output_type": "display_data"
    },
    {
     "name": "stdout",
     "output_type": "stream",
     "text": [
      "[0.01 0.99 0.01 0.01 0.01 0.01 0.01 0.01 0.01 0.01]\n"
     ]
    }
   ],
   "source": [
    "# Run pre-processing script to import dataset in usable format\n",
    "%run ./Data_preprocessing.ipynb"
   ]
  },
  {
   "cell_type": "code",
   "execution_count": 431,
   "metadata": {},
   "outputs": [],
   "source": [
    "# Simplify dataset by selecting only classes 0 and 1\n",
    "train_images_simple = train_images[np.any(train_labels[:,[0,1]]==0.99, axis=1)]\n",
    "train_labels_simple = train_labels[np.any(train_labels[:,[0,1]]==0.99, axis=1),:2]\n",
    "test_images_simple = test_images[np.any(test_labels[:,[0,1]]==0.99, axis=1)]\n",
    "test_labels_simple = test_labels[np.any(test_labels[:,[0,1]]==0.99, axis=1),:2]"
   ]
  },
  {
   "cell_type": "code",
   "execution_count": 428,
   "metadata": {},
   "outputs": [],
   "source": [
    "class NeuralNetwork:\n",
    "              \n",
    "    def sigmoid(x):\n",
    "        return 1/(1+np.exp(-x))\n",
    "    \n",
    "    def ReLU(x):\n",
    "        return np.maximum(0.0, x)\n",
    "    \n",
    "    def __init__(self, design, step_size=0.01, activation_function=sigmoid, dropout=False, bias=False):\n",
    "        self.design = design\n",
    "        self.step_size = step_size\n",
    "        self.activation_function = activation_function # does not work properly (cannot select ReLU)\n",
    "        self.bias = bias\n",
    "        self.dropout = dropout\n",
    "        self.create_weights()\n",
    "        self.activation = []\n",
    "    \n",
    "    def create_weights(self):\n",
    "        self.weights = [np.zeros(0)]\n",
    "        for i in np.arange(len(self.design)-1):\n",
    "            self.weights.append(np.random.uniform(-1,1,[self.design[i+1], self.design[i]]))\n",
    "    \n",
    "    def train(self, input_data, target_data): # actually just place holder for batch gradient descent\n",
    "        for i in np.arange(len(input_data)):\n",
    "            self.one_training(input_data[i], target_data[i])\n",
    "    \n",
    "    def one_training(self, input_data, target_data):\n",
    "        \n",
    "        # Convert data into coumn vectors\n",
    "        input_vector = np.array(input_data.flatten(), ndmin=2).T\n",
    "        target_vector = np.array(target_data, ndmin=2).T\n",
    "        \n",
    "        # Compute activation/output\n",
    "        self.activation = [] # initialize activation list\n",
    "        self.activation.append(input_vector)\n",
    "        for i in np.arange(len(self.design)-1):\n",
    "            self.activation.append(self.activation_function(self.weights[i+1] @ self.activation[i]))\n",
    "            \n",
    "        # Compute error\n",
    "        error = target_vector - self.activation[-1]\n",
    "        \n",
    "        # Update weights\n",
    "        for i in np.arange(len(self.design)-1,0,-1): # move backwards through NN\n",
    "            correction = self.step_size * ((error * self.activation[i] * (1.0 - self.activation[i])) @ self.activation[i-1].T)\n",
    "            self.weights[i] += correction\n",
    "            error = self.weights[i].T @ error\n",
    "    \n",
    "    def run(self, input_data):\n",
    "        \n",
    "        # Convert data into column vector\n",
    "        input_vector = np.array(input_data.flatten(), ndmin=2).T\n",
    "        \n",
    "        # Compute layer outputs/activations\n",
    "        self.activation = [] # initialize activation list\n",
    "        self.activation.append(input_vector)\n",
    "        for i in np.arange(len(self.design)-1):\n",
    "            self.activation.append(self.activation_function(self.weights[i+1] @ self.activation[i]))\n",
    "            \n",
    "        return self.activation[-1]\n",
    "    \n",
    "    def evaluate(self, input_data, target_data, performance_measure=True):\n",
    "        confusion_matrix = np.zeros([target_data.shape[-1],target_data.shape[-1]]) # Initialize confusion matrix\n",
    "        \n",
    "        # Compute confusion matrix (one data point at a time)\n",
    "        for i in np.arange(len(input_data)):\n",
    "            output = self.run(input_data[i]) # get output of every data_point\n",
    "            true_label = np.array(target_data[i], ndmin=2).T # get true label of every data_point\n",
    "        \n",
    "            # Compute result and add to confusion matrix\n",
    "            confusion_result = true_label @ output.T # true label in rows, prediction in columns\n",
    "            confusion_result[confusion_result == np.max(confusion_result)] = 1\n",
    "            confusion_result[confusion_result != 1] = 0\n",
    "            confusion_matrix += confusion_result\n",
    "        \n",
    "        total_predictions = np.sum(confusion_matrix)\n",
    "        correct_predictions = np.sum(np.diag(confusion_matrix))\n",
    "        false_predictions = total_predictions - correct_predictions\n",
    "        \n",
    "        # Accuracy\n",
    "        self.accuracy = correct_predictions / total_predictions\n",
    "        \n",
    "        # Recall (per class)\n",
    "        self.recall = np.array([])\n",
    "        for i in np.arange(target_data.shape[-1]):\n",
    "            self.recall = np.append(self.recall, confusion_matrix[i,i] / np.sum(confusion_matrix[i,:]))\n",
    "        \n",
    "        # Precision (per class)\n",
    "        self.precision = np.array([])\n",
    "        for i in np.arange(target_data.shape[-1]):\n",
    "            self.precision = np.append(self.precision, confusion_matrix[i,i] / np.sum(confusion_matrix[:,i]))\n",
    "        \n",
    "        # Print accuracy measures\n",
    "        print('Accuracy: ' + str('%.2f' % (self.accuracy * 100)) + '%')\n",
    "        for i in np.arange(target_data.shape[-1]):    \n",
    "            print('Recall for ' + str(i) + ': ' + str('%.2f' % (self.recall[i] * 100)) + '%')\n",
    "            print('Precision for ' + str(i) + ': ' + str('%.2f' % (self.precision[i] * 100)) + '%')\n",
    "\n",
    "    def find_hyperparameters(self):\n",
    "        pass"
   ]
  },
  {
   "cell_type": "code",
   "execution_count": 429,
   "metadata": {},
   "outputs": [],
   "source": [
    "n = NeuralNetwork([784,100,100,2])\n",
    "n.train(train_images_simple, train_labels_simple)"
   ]
  },
  {
   "cell_type": "code",
   "execution_count": 435,
   "metadata": {},
   "outputs": [
    {
     "name": "stdout",
     "output_type": "stream",
     "text": [
      "Accuracy: 99.91%\n",
      "Recall for 0: 99.80%\n",
      "Precision for 0: 100.00%\n",
      "Recall for 1: 100.00%\n",
      "Precision for 1: 99.82%\n"
     ]
    }
   ],
   "source": [
    "n.evaluate(test_images_simple, test_labels_simple)"
   ]
  },
  {
   "cell_type": "code",
   "execution_count": null,
   "metadata": {},
   "outputs": [],
   "source": []
  }
 ],
 "metadata": {
  "kernelspec": {
   "display_name": "Python 3",
   "language": "python",
   "name": "python3"
  },
  "language_info": {
   "codemirror_mode": {
    "name": "ipython",
    "version": 3
   },
   "file_extension": ".py",
   "mimetype": "text/x-python",
   "name": "python",
   "nbconvert_exporter": "python",
   "pygments_lexer": "ipython3",
   "version": "3.7.1"
  }
 },
 "nbformat": 4,
 "nbformat_minor": 2
}
