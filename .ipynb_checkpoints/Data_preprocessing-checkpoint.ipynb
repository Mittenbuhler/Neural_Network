{
 "cells": [
  {
   "cell_type": "code",
   "execution_count": 9,
   "metadata": {},
   "outputs": [],
   "source": [
    "import idx2numpy\n",
    "import numpy as np\n",
    "import matplotlib.pyplot as plt\n",
    "import os\n",
    "os.chdir('/Users/Max/Documents/Studium/Master/Semester_2/Programming/Data')"
   ]
  },
  {
   "cell_type": "code",
   "execution_count": 11,
   "metadata": {},
   "outputs": [
    {
     "ename": "FileNotFoundError",
     "evalue": "[Errno 2] No such file or directory: 'train-images.idx3-ubyte'",
     "output_type": "error",
     "traceback": [
      "\u001b[0;31m---------------------------------------------------------------------------\u001b[0m",
      "\u001b[0;31mFileNotFoundError\u001b[0m                         Traceback (most recent call last)",
      "\u001b[0;32m<ipython-input-11-8945b9933128>\u001b[0m in \u001b[0;36m<module>\u001b[0;34m\u001b[0m\n\u001b[1;32m      4\u001b[0m \u001b[0;34m\u001b[0m\u001b[0m\n\u001b[1;32m      5\u001b[0m \u001b[0;31m# Load data and convert data to numpy arrays\u001b[0m\u001b[0;34m\u001b[0m\u001b[0;34m\u001b[0m\u001b[0;34m\u001b[0m\u001b[0m\n\u001b[0;32m----> 6\u001b[0;31m \u001b[0mtrain_images\u001b[0m \u001b[0;34m=\u001b[0m \u001b[0midx2numpy\u001b[0m\u001b[0;34m.\u001b[0m\u001b[0mconvert_from_file\u001b[0m\u001b[0;34m(\u001b[0m\u001b[0;34m'train-images.idx3-ubyte'\u001b[0m\u001b[0;34m)\u001b[0m\u001b[0;34m\u001b[0m\u001b[0;34m\u001b[0m\u001b[0m\n\u001b[0m\u001b[1;32m      7\u001b[0m \u001b[0mtrain_labels\u001b[0m \u001b[0;34m=\u001b[0m \u001b[0midx2numpy\u001b[0m\u001b[0;34m.\u001b[0m\u001b[0mconvert_from_file\u001b[0m\u001b[0;34m(\u001b[0m\u001b[0;34m'train-labels.idx1-ubyte'\u001b[0m\u001b[0;34m)\u001b[0m\u001b[0;34m\u001b[0m\u001b[0;34m\u001b[0m\u001b[0m\n\u001b[1;32m      8\u001b[0m \u001b[0mtest_images\u001b[0m \u001b[0;34m=\u001b[0m \u001b[0midx2numpy\u001b[0m\u001b[0;34m.\u001b[0m\u001b[0mconvert_from_file\u001b[0m\u001b[0;34m(\u001b[0m\u001b[0;34m't10k-images.idx3-ubyte'\u001b[0m\u001b[0;34m)\u001b[0m\u001b[0;34m\u001b[0m\u001b[0;34m\u001b[0m\u001b[0m\n",
      "\u001b[0;32m~/anaconda3/lib/python3.7/site-packages/idx2numpy/converters.py\u001b[0m in \u001b[0;36mconvert_from_file\u001b[0;34m(file)\u001b[0m\n\u001b[1;32m     54\u001b[0m     \"\"\"\n\u001b[1;32m     55\u001b[0m     \u001b[0;32mif\u001b[0m \u001b[0misinstance\u001b[0m\u001b[0;34m(\u001b[0m\u001b[0mfile\u001b[0m\u001b[0;34m,\u001b[0m \u001b[0msix_string_types\u001b[0m\u001b[0;34m)\u001b[0m\u001b[0;34m:\u001b[0m\u001b[0;34m\u001b[0m\u001b[0;34m\u001b[0m\u001b[0m\n\u001b[0;32m---> 56\u001b[0;31m         \u001b[0;32mwith\u001b[0m \u001b[0mopen\u001b[0m\u001b[0;34m(\u001b[0m\u001b[0mfile\u001b[0m\u001b[0;34m,\u001b[0m \u001b[0;34m'rb'\u001b[0m\u001b[0;34m)\u001b[0m \u001b[0;32mas\u001b[0m \u001b[0mf\u001b[0m\u001b[0;34m:\u001b[0m\u001b[0;34m\u001b[0m\u001b[0;34m\u001b[0m\u001b[0m\n\u001b[0m\u001b[1;32m     57\u001b[0m             \u001b[0;32mreturn\u001b[0m \u001b[0m_internal_convert\u001b[0m\u001b[0;34m(\u001b[0m\u001b[0mf\u001b[0m\u001b[0;34m)\u001b[0m\u001b[0;34m\u001b[0m\u001b[0;34m\u001b[0m\u001b[0m\n\u001b[1;32m     58\u001b[0m     \u001b[0;32melse\u001b[0m\u001b[0;34m:\u001b[0m\u001b[0;34m\u001b[0m\u001b[0;34m\u001b[0m\u001b[0m\n",
      "\u001b[0;31mFileNotFoundError\u001b[0m: [Errno 2] No such file or directory: 'train-images.idx3-ubyte'"
     ]
    }
   ],
   "source": [
    "import idx2numpy\n",
    "import numpy as np\n",
    "import matplotlib.pyplot as plt\n",
    "\n",
    "# Load data and convert data to numpy arrays\n",
    "train_images = idx2numpy.convert_from_file('train-images.idx3-ubyte')\n",
    "train_labels = idx2numpy.convert_from_file('train-labels.idx1-ubyte')\n",
    "test_images = idx2numpy.convert_from_file('t10k-images.idx3-ubyte')\n",
    "test_labels = idx2numpy.convert_from_file('t10k-labels.idx1-ubyte')\n",
    "\n",
    "# Re-scale input values from intervals [0,255] to [0.01,1] (necessary for optimal performance of NN)\n",
    "train_images = train_images * (0.99/255) + 0.01\n",
    "test_images = test_images * (0.99/255) + 0.01\n",
    "\n",
    "# Convert label data to one-hot representation with either 0.01 or 0.99 (also necessary for optimal performance of NN and to compute confusion matrix)\n",
    "train_labels = np.asfarray(train_labels) # convert to floats\n",
    "test_labels = np.asfarray(test_labels)\n",
    "train_labels = np.array(train_labels, ndmin=2).T # convert to column vector\n",
    "test_labels = np.array(test_labels, ndmin=2).T\n",
    "train_labels = (np.arange(10)==train_labels).astype(np.float) # convert to one-hot representation\n",
    "test_labels = (np.arange(10)==test_labels).astype(np.float)\n",
    "train_labels[train_labels==1] = 0.99 # substitute 0/1 for 0.01/0.99\n",
    "test_labels[test_labels==1] = 0.99\n",
    "train_labels[train_labels==0] = 0.01\n",
    "test_labels[test_labels==0] = 0.01"
   ]
  },
  {
   "cell_type": "code",
   "execution_count": 5,
   "metadata": {},
   "outputs": [
    {
     "name": "stdout",
     "output_type": "stream",
     "text": [
      "Data preprocessed successfully\n"
     ]
    }
   ],
   "source": [
    "if train_images.shape == (60000, 28, 28) and train_labels.shape == (60000, 10):\n",
    "    print('Data preprocessed successfully')\n",
    "else:\n",
    "    print('Preprocessing failed')"
   ]
  },
  {
   "cell_type": "code",
   "execution_count": null,
   "metadata": {},
   "outputs": [],
   "source": []
  }
 ],
 "metadata": {
  "kernelspec": {
   "display_name": "Python 3",
   "language": "python",
   "name": "python3"
  },
  "language_info": {
   "codemirror_mode": {
    "name": "ipython",
    "version": 3
   },
   "file_extension": ".py",
   "mimetype": "text/x-python",
   "name": "python",
   "nbconvert_exporter": "python",
   "pygments_lexer": "ipython3",
   "version": "3.7.1"
  }
 },
 "nbformat": 4,
 "nbformat_minor": 2
}
