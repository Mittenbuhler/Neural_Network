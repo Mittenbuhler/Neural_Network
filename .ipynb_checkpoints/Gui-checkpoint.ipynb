{
 "cells": [
  {
   "cell_type": "code",
   "execution_count": 83,
   "metadata": {},
   "outputs": [],
   "source": [
    "from tkinter import *\n",
    "import numpy as np\n",
    "from neural_network import *\n",
    "import matplotlib.pyplot as plt\n",
    "from PIL import Image, ImageDraw, ImageOps"
   ]
  },
  {
   "cell_type": "code",
   "execution_count": 3,
   "metadata": {},
   "outputs": [
    {
     "name": "stdout",
     "output_type": "stream",
     "text": [
      "/Users/Max/Documents/Studium/Master/Semester_2/Programming/Scripts\n"
     ]
    }
   ],
   "source": [
    "cd /Users/Max/Documents/Studium/Master/Semester_2/Programming/Scripts/"
   ]
  },
  {
   "cell_type": "code",
   "execution_count": 4,
   "metadata": {},
   "outputs": [
    {
     "name": "stdout",
     "output_type": "stream",
     "text": [
      "(60000, 28, 28)\n",
      "(60000, 10)\n"
     ]
    },
    {
     "data": {
      "image/png": "[encoded data removed]",
      "text/plain": [
       "<Figure size 432x288 with 1 Axes>"
      ]
     },
     "metadata": {
      "needs_background": "light"
     },
     "output_type": "display_data"
    },
    {
     "name": "stdout",
     "output_type": "stream",
     "text": [
      "[0.01 0.01 0.01 0.01 0.01 0.99 0.01 0.01 0.01 0.01]\n"
     ]
    },
    {
     "data": {
      "image/png": "[encoded data removed]",
      "text/plain": [
       "<Figure size 432x288 with 1 Axes>"
      ]
     },
     "metadata": {
      "needs_background": "light"
     },
     "output_type": "display_data"
    },
    {
     "name": "stdout",
     "output_type": "stream",
     "text": [
      "[0.01 0.01 0.01 0.01 0.01 0.01 0.01 0.99 0.01 0.01]\n"
     ]
    },
    {
     "data": {
      "image/png": "[encoded data removed]",
      "text/plain": [
       "<Figure size 432x288 with 1 Axes>"
      ]
     },
     "metadata": {
      "needs_background": "light"
     },
     "output_type": "display_data"
    },
    {
     "name": "stdout",
     "output_type": "stream",
     "text": [
      "[0.01 0.99 0.01 0.01 0.01 0.01 0.01 0.01 0.01 0.01]\n"
     ]
    },
    {
     "data": {
      "image/png": "[encoded data removed]",
      "text/plain": [
       "<Figure size 432x288 with 1 Axes>"
      ]
     },
     "metadata": {
      "needs_background": "light"
     },
     "output_type": "display_data"
    },
    {
     "name": "stdout",
     "output_type": "stream",
     "text": [
      "[0.01 0.01 0.01 0.01 0.01 0.01 0.01 0.99 0.01 0.01]\n"
     ]
    },
    {
     "data": {
      "image/png": "[encoded data removed]",
      "text/plain": [
       "<Figure size 432x288 with 1 Axes>"
      ]
     },
     "metadata": {
      "needs_background": "light"
     },
     "output_type": "display_data"
    },
    {
     "name": "stdout",
     "output_type": "stream",
     "text": [
      "[0.01 0.99 0.01 0.01 0.01 0.01 0.01 0.01 0.01 0.01]\n"
     ]
    }
   ],
   "source": [
    "%run ./Data_preprocessing.ipynb"
   ]
  },
  {
   "cell_type": "code",
   "execution_count": 5,
   "metadata": {},
   "outputs": [],
   "source": [
    "n = NeuralNetwork([784,100,100,10])"
   ]
  },
  {
   "cell_type": "code",
   "execution_count": 6,
   "metadata": {},
   "outputs": [],
   "source": [
    "n.train(train_images,train_labels)"
   ]
  },
  {
   "cell_type": "code",
   "execution_count": 7,
   "metadata": {},
   "outputs": [
    {
     "name": "stdout",
     "output_type": "stream",
     "text": [
      "Accuracy: 94.00%\n",
      "Recall for 0: 97.96%\n",
      "Precision for 0: 95.43%\n",
      "Recall for 1: 98.85%\n",
      "Precision for 1: 97.06%\n",
      "Recall for 2: 91.76%\n",
      "Precision for 2: 96.53%\n",
      "Recall for 3: 93.86%\n",
      "Precision for 3: 91.59%\n",
      "Recall for 4: 92.46%\n",
      "Precision for 4: 93.03%\n",
      "Recall for 5: 90.13%\n",
      "Precision for 5: 95.49%\n",
      "Recall for 6: 96.66%\n",
      "Precision for 6: 93.72%\n",
      "Recall for 7: 92.02%\n",
      "Precision for 7: 96.14%\n",
      "Recall for 8: 91.07%\n",
      "Precision for 8: 93.96%\n",
      "Recall for 9: 94.35%\n",
      "Precision for 9: 87.50%\n"
     ]
    }
   ],
   "source": [
    "n.evaluate(test_images, test_labels)"
   ]
  },
  {
   "cell_type": "code",
   "execution_count": 107,
   "metadata": {},
   "outputs": [],
   "source": [
    "class Gui:\n",
    "    \n",
    "    def __init__(self, master):\n",
    "        \n",
    "        # Layout and frames\n",
    "        master.geometry('410x330')\n",
    "        border_color='white'\n",
    "        input_frame = Frame(master, highlightbackground=border_color, highlightthickness=2)\n",
    "        input_frame.grid(row=2, column=0)\n",
    "        feedback_frame = Frame(master, highlightbackground=border_color, highlightthickness=2)\n",
    "        feedback_frame.grid(row=2, column=2)\n",
    "        \n",
    "        # Empty frames/labels for layout\n",
    "        empty_frame_1 = Frame(master, highlightbackground=border_color, highlightthickness=2)\n",
    "        empty_frame_1.grid(row=2, column=1)\n",
    "        empty_label_1 = Label(empty_frame_1, text=' ', font=(\"Helvetica\", 30))\n",
    "        empty_label_1.pack()\n",
    "        \n",
    "        # Buttons\n",
    "        self.button_reset = Button(input_frame, text='Reset', width=10, command=self.reset)\n",
    "        self.button_reset.pack(side=BOTTOM)\n",
    "        self.button_recognize = Button(input_frame, text='Recognize!', width=10, command=self.run_nn)\n",
    "        self.button_recognize.pack(side=BOTTOM)\n",
    "\n",
    "        # Drawing field\n",
    "        sub_1 = Label(input_frame, text='Write your digit!', font=(\"Helvetica\", 15))\n",
    "        sub_1.pack(side=TOP)\n",
    "        self.drawing_field = Canvas(input_frame, height=250, width=250, bg='white', cursor='cross', \n",
    "                                    highlightbackground=\"black\", highlightthickness=2)\n",
    "        self.drawing_field.pack() \n",
    "        self.drawing_field.bind(\"<Motion>\", self.tell_me_where_you_are)\n",
    "        self.drawing_field.bind(\"<B1-Motion>\", self.draw_from_where_you_are)\n",
    "        \n",
    "        # Feedback field\n",
    "        sub_2 = Label(feedback_frame, text='Recognized as...', font=(\"Helvetica\", 15))\n",
    "        sub_2.pack(side=TOP)\n",
    "        self.prediction_field = Text(feedback_frame, height=1, width=1, font=(\"Helvetica\", 50), bg='light grey')\n",
    "        self.prediction_field.pack(side=TOP)\n",
    "        \n",
    "        sub_3 = Label(feedback_frame, text='Confidence...', font=(\"Helvetica\", 15))\n",
    "        sub_3.pack(side=TOP)\n",
    "        self.confidence_field = Text(feedback_frame, height=1, width=4, font=(\"Helvetica\", 50), bg='light grey')\n",
    "        self.confidence_field.pack(side=TOP)\n",
    "        \n",
    "        sub_4 = Label(feedback_frame, text='Alternatives...', font=(\"Helvetica\", 15))\n",
    "        sub_4.pack(side=TOP)\n",
    "        self.alternative_field = Text(feedback_frame, height=1, width=1, font=(\"Helvetica\", 50), bg='light grey')\n",
    "        self.alternative_field.pack(side=TOP)\n",
    "        \n",
    "        #PIL\n",
    "        self.image=Image.new(\"RGB\",(250,250),(255,255,255))\n",
    "        self.draw=ImageDraw.Draw(self.image)\n",
    "\n",
    "    def tell_me_where_you_are(self, event):\n",
    "        self.previous_x = event.x\n",
    "        self.previous_y = event.y\n",
    "\n",
    "    def draw_from_where_you_are(self, event):\n",
    "        self.x = event.x\n",
    "        self.y = event.y\n",
    "        self.drawing_field.create_polygon(self.previous_x, self.previous_y, self.x, self.y, width=20, outline='black')\n",
    "        self.draw.line(((self.previous_x, self.previous_y),(self.x, self.y)),(1,1,1), width=20)\n",
    "        self.previous_x = self.x\n",
    "        self.previous_y = self.y\n",
    "\n",
    "        img_inverted = ImageOps.invert(self.image)\n",
    "        img_resized = img_inverted.resize((28,28), Image.ANTIALIAS)\n",
    "        self.input_image = np.asarray(img_resized)[:,:,0] * (0.99/255) + 0.01\n",
    "        \n",
    "    def run_nn(self):\n",
    "        output = n.run(self.input_image).T[0]\n",
    "        self.prediction = np.argmax(output)\n",
    "        self.confidence = np.max(output)\n",
    "        self.alternative = np.argsort(output)[-2]\n",
    "        self.prediction_field.insert(END, str(self.prediction))\n",
    "        self.confidence_field.insert(END, '%.0f%%' %(self.confidence*100))\n",
    "        if self.confidence < 0.8:\n",
    "            self.alternative_field.insert(END, str(self.alternative))\n",
    "        else:\n",
    "            self.alternative_field.insert(END, '/')\n",
    "        \n",
    "    def reset(self):\n",
    "        # Reset tkinter\n",
    "        self.prediction_field.delete(1.0,END)\n",
    "        self.confidence_field.delete(1.0,END)\n",
    "        self.alternative_field.delete(1.0,END)\n",
    "        self.drawing_field.delete('all')\n",
    "        # Reset PIL\n",
    "        self.image=Image.new(\"RGB\",(250,250),(255,255,255))\n",
    "        self.draw=ImageDraw.Draw(self.image)\n",
    "\n",
    "if __name__ == \"__main__\":\n",
    "    root = Tk()\n",
    "    b = Gui(root)\n",
    "    root.mainloop()"
   ]
  },
  {
   "cell_type": "code",
   "execution_count": 84,
   "metadata": {},
   "outputs": [
    {
     "data": {
      "image/png": "[encoded data removed]",
      "text/plain": [
       "<PIL.Image.Image image mode=RGB size=250x250 at 0x135024710>"
      ]
     },
     "execution_count": 84,
     "metadata": {},
     "output_type": "execute_result"
    }
   ],
   "source": [
    "img_inverted = ImageOps.invert(b.image)\n",
    "img_inverted"
   ]
  },
  {
   "cell_type": "code",
   "execution_count": 85,
   "metadata": {},
   "outputs": [],
   "source": [
    "img_28 = img_inverted.resize((28,28), Image.ANTIALIAS)"
   ]
  },
  {
   "cell_type": "code",
   "execution_count": 86,
   "metadata": {},
   "outputs": [
    {
     "data": {
      "image/png": "[encoded data removed]",
      "text/plain": [
       "<PIL.Image.Image image mode=RGB size=28x28 at 0x1176DB630>"
      ]
     },
     "execution_count": 86,
     "metadata": {},
     "output_type": "execute_result"
    }
   ],
   "source": [
    "img_28"
   ]
  },
  {
   "cell_type": "code",
   "execution_count": 87,
   "metadata": {},
   "outputs": [],
   "source": [
    "array = np.asarray(img_28)[:,:,0] * (0.99/255) + 0.01"
   ]
  },
  {
   "cell_type": "code",
   "execution_count": 88,
   "metadata": {},
   "outputs": [
    {
     "data": {
      "image/png": "[encoded data removed]",
      "text/plain": [
       "<Figure size 432x288 with 1 Axes>"
      ]
     },
     "metadata": {
      "needs_background": "light"
     },
     "output_type": "display_data"
    }
   ],
   "source": [
    "plt.show(plt.imshow(array))"
   ]
  },
  {
   "cell_type": "code",
   "execution_count": 89,
   "metadata": {},
   "outputs": [
    {
     "data": {
      "text/plain": [
       "(28, 28)"
      ]
     },
     "execution_count": 89,
     "metadata": {},
     "output_type": "execute_result"
    }
   ],
   "source": [
    "array.shape"
   ]
  },
  {
   "cell_type": "code",
   "execution_count": 90,
   "metadata": {},
   "outputs": [
    {
     "data": {
      "text/plain": [
       "array([[0.01      , 0.01      , 0.01      , 0.01      , 0.01      ,\n",
       "        0.01      , 0.01      , 0.01      , 0.01      , 0.01      ,\n",
       "        0.01      , 0.01      , 0.01      , 0.01      , 0.01      ,\n",
       "        0.01      , 0.01      , 0.01      , 0.01      , 0.01      ,\n",
       "        0.01      , 0.01      , 0.01      , 0.01      , 0.01      ,\n",
       "        0.01      , 0.01      , 0.01      ],\n",
       "       [0.01      , 0.01      , 0.01      , 0.01      , 0.01      ,\n",
       "        0.01      , 0.01      , 0.01      , 0.01      , 0.01      ,\n",
       "        0.01      , 0.01      , 0.01      , 0.01      , 0.01      ,\n",
       "        0.01      , 0.01      , 0.01      , 0.01      , 0.01      ,\n",
       "        0.01      , 0.01      , 0.01      , 0.01      , 0.01      ,\n",
       "        0.01      , 0.01      , 0.01      ],\n",
       "       [0.01      , 0.01      , 0.01      , 0.01      , 0.01      ,\n",
       "        0.01      , 0.01      , 0.01      , 0.01      , 0.01      ,\n",
       "        0.01      , 0.01      , 0.01      , 0.01      , 0.01      ,\n",
       "        0.01      , 0.01      , 0.01      , 0.01      , 0.01      ,\n",
       "        0.01      , 0.01      , 0.01      , 0.01      , 0.01      ,\n",
       "        0.01      , 0.01      , 0.01      ],\n",
       "       [0.01      , 0.01      , 0.01      , 0.01      , 0.01      ,\n",
       "        0.01      , 0.01      , 0.01      , 0.01      , 0.01      ,\n",
       "        0.01      , 0.01      , 0.01      , 0.01      , 0.01388235,\n",
       "        0.01776471, 0.01388235, 0.01      , 0.01      , 0.01      ,\n",
       "        0.01      , 0.01      , 0.01      , 0.01      , 0.01      ,\n",
       "        0.01      , 0.01      , 0.01      ],\n",
       "       [0.01      , 0.01      , 0.01      , 0.01      , 0.01      ,\n",
       "        0.01      , 0.01      , 0.01      , 0.01      , 0.01      ,\n",
       "        0.01      , 0.01      , 0.01      , 0.01      , 0.01      ,\n",
       "        0.01      , 0.01      , 0.01      , 0.01      , 0.01      ,\n",
       "        0.01      , 0.01      , 0.01      , 0.01      , 0.01      ,\n",
       "        0.01      , 0.01      , 0.01      ],\n",
       "       [0.01      , 0.01      , 0.01      , 0.01      , 0.01      ,\n",
       "        0.01      , 0.01      , 0.01776471, 0.01      , 0.21964706,\n",
       "        0.80976471, 0.802     , 0.80588235, 0.80976471, 0.75152941,\n",
       "        0.31282353, 0.08764706, 0.01388235, 0.01388235, 0.01      ,\n",
       "        0.01      , 0.01      , 0.01      , 0.01      , 0.01      ,\n",
       "        0.01      , 0.01      , 0.01      ],\n",
       "       [0.01      , 0.01      , 0.01      , 0.01      , 0.01      ,\n",
       "        0.01      , 0.01      , 0.02164706, 0.01      , 0.29729412,\n",
       "        1.        , 1.        , 1.        , 1.        , 1.        ,\n",
       "        0.94952941, 0.20023529, 0.01      , 0.01776471, 0.01      ,\n",
       "        0.01      , 0.01      , 0.01      , 0.01      , 0.01      ,\n",
       "        0.01      , 0.01      , 0.01      ],\n",
       "       [0.01      , 0.01      , 0.01      , 0.01      , 0.01      ,\n",
       "        0.01      , 0.01      , 0.01388235, 0.01      , 0.11094118,\n",
       "        0.39047059, 0.38658824, 0.39435294, 0.38270588, 0.76705882,\n",
       "        0.86023529, 0.274     , 0.01388235, 0.01776471, 0.01      ,\n",
       "        0.01      , 0.01      , 0.01      , 0.01      , 0.01      ,\n",
       "        0.01      , 0.01      , 0.01      ],\n",
       "       [0.01      , 0.01      , 0.01      , 0.01      , 0.01      ,\n",
       "        0.01      , 0.01      , 0.01      , 0.01      , 0.01      ,\n",
       "        0.01      , 0.01      , 0.01      , 0.01      , 0.62341176,\n",
       "        1.        , 0.604     , 0.01      , 0.02552941, 0.01      ,\n",
       "        0.01      , 0.01      , 0.01      , 0.01      , 0.01      ,\n",
       "        0.01      , 0.01      , 0.01      ],\n",
       "       [0.01      , 0.01      , 0.01      , 0.01      , 0.01      ,\n",
       "        0.01      , 0.01      , 0.01      , 0.01      , 0.01388235,\n",
       "        0.02552941, 0.02552941, 0.04494118, 0.01      , 0.65058824,\n",
       "        0.99611765, 0.57682353, 0.01      , 0.02552941, 0.01      ,\n",
       "        0.01      , 0.01      , 0.01      , 0.01      , 0.01      ,\n",
       "        0.01      , 0.01      , 0.01      ],\n",
       "       [0.01      , 0.01      , 0.01      , 0.01      , 0.01      ,\n",
       "        0.01      , 0.01      , 0.01      , 0.01      , 0.01      ,\n",
       "        0.02552941, 0.01776471, 0.01      , 0.208     , 0.82917647,\n",
       "        1.        , 0.44482353, 0.01      , 0.02164706, 0.01      ,\n",
       "        0.01      , 0.01      , 0.01      , 0.01      , 0.01      ,\n",
       "        0.01      , 0.01      , 0.01      ],\n",
       "       [0.01      , 0.01      , 0.01      , 0.01      , 0.01      ,\n",
       "        0.01      , 0.01      , 0.01      , 0.01      , 0.01      ,\n",
       "        0.01      , 0.01      , 0.40211765, 0.98058824, 0.95341176,\n",
       "        0.60788235, 0.05270588, 0.02164706, 0.01776471, 0.01      ,\n",
       "        0.01      , 0.01      , 0.01      , 0.01      , 0.01      ,\n",
       "        0.01      , 0.01      , 0.01      ],\n",
       "       [0.01      , 0.01      , 0.01      , 0.01      , 0.01      ,\n",
       "        0.01      , 0.01      , 0.01388235, 0.01      , 0.01388235,\n",
       "        0.38658824, 0.73211765, 1.        , 0.98447059, 0.90294118,\n",
       "        0.39047059, 0.142     , 0.01      , 0.01      , 0.01      ,\n",
       "        0.01      , 0.01      , 0.01      , 0.01      , 0.01      ,\n",
       "        0.01      , 0.01      , 0.01      ],\n",
       "       [0.01      , 0.01      , 0.01      , 0.01      , 0.01      ,\n",
       "        0.01      , 0.01      , 0.01388235, 0.02164706, 0.38270588,\n",
       "        1.        , 1.        , 1.        , 1.        , 1.        ,\n",
       "        1.        , 0.87188235, 0.46035294, 0.05658824, 0.01388235,\n",
       "        0.01388235, 0.01      , 0.01      , 0.01      , 0.01      ,\n",
       "        0.01      , 0.01      , 0.01      ],\n",
       "       [0.01      , 0.01      , 0.01      , 0.01      , 0.01      ,\n",
       "        0.01      , 0.01      , 0.01      , 0.01776471, 0.17694118,\n",
       "        0.77094118, 0.78647059, 0.66223529, 0.67776471, 0.67      ,\n",
       "        0.736     , 0.96894118, 0.95729412, 0.29729412, 0.01      ,\n",
       "        0.01776471, 0.01      , 0.01      , 0.01      , 0.01      ,\n",
       "        0.01      , 0.01      , 0.01      ],\n",
       "       [0.01      , 0.01      , 0.01      , 0.01      , 0.01      ,\n",
       "        0.01      , 0.01      , 0.01      , 0.01      , 0.01      ,\n",
       "        0.07988235, 0.01      , 0.01      , 0.01      , 0.01      ,\n",
       "        0.01      , 0.50305882, 0.99223529, 0.70494118, 0.01      ,\n",
       "        0.01388235, 0.01      , 0.01      , 0.01      , 0.01      ,\n",
       "        0.01      , 0.01      , 0.01      ],\n",
       "       [0.01      , 0.01      , 0.01      , 0.01      , 0.01      ,\n",
       "        0.01      , 0.01      , 0.01      , 0.01      , 0.01776471,\n",
       "        0.01      , 0.01      , 0.02164706, 0.02164706, 0.04882353,\n",
       "        0.01      , 0.36329412, 1.        , 0.81752941, 0.01      ,\n",
       "        0.01388235, 0.01      , 0.01      , 0.01      , 0.01      ,\n",
       "        0.01      , 0.01      , 0.01      ],\n",
       "       [0.01      , 0.01      , 0.01      , 0.01      , 0.01      ,\n",
       "        0.01      , 0.01      , 0.01      , 0.01      , 0.01      ,\n",
       "        0.01388235, 0.01388235, 0.01776471, 0.02552941, 0.01      ,\n",
       "        0.02552941, 0.62729412, 0.98058824, 0.69717647, 0.01      ,\n",
       "        0.01388235, 0.01      , 0.01      , 0.01      , 0.01      ,\n",
       "        0.01      , 0.01      , 0.01      ],\n",
       "       [0.01      , 0.01      , 0.01      , 0.01      , 0.01      ,\n",
       "        0.01      , 0.01      , 0.01      , 0.01388235, 0.02164706,\n",
       "        0.02552941, 0.01776471, 0.01      , 0.01      , 0.22352941,\n",
       "        0.76317647, 1.        , 1.        , 0.25847059, 0.01      ,\n",
       "        0.02164706, 0.01      , 0.01      , 0.01      , 0.01      ,\n",
       "        0.01      , 0.01      , 0.01      ],\n",
       "       [0.01      , 0.01      , 0.01      , 0.01      , 0.01      ,\n",
       "        0.01      , 0.01      , 0.01      , 0.01      , 0.01      ,\n",
       "        0.01      , 0.01      , 0.14588235, 0.60011765, 0.98058824,\n",
       "        1.        , 0.94564706, 0.406     , 0.02552941, 0.01776471,\n",
       "        0.01      , 0.01      , 0.01      , 0.01      , 0.01      ,\n",
       "        0.01      , 0.01      , 0.01      ],\n",
       "       [0.01      , 0.01      , 0.01      , 0.01      , 0.01      ,\n",
       "        0.01      , 0.01      , 0.02552941, 0.07211765, 0.28564706,\n",
       "        0.51858824, 0.71658824, 0.94564706, 1.        , 1.        ,\n",
       "        0.72047059, 0.16529412, 0.01      , 0.01388235, 0.01      ,\n",
       "        0.01      , 0.01      , 0.01      , 0.01      , 0.01      ,\n",
       "        0.01      , 0.01      , 0.01      ],\n",
       "       [0.01      , 0.01      , 0.01      , 0.01      , 0.01      ,\n",
       "        0.01      , 0.01776471, 0.04105882, 0.52247059, 1.        ,\n",
       "        1.        , 1.        , 1.        , 0.82141176, 0.35941176,\n",
       "        0.01      , 0.01      , 0.02552941, 0.01      , 0.01      ,\n",
       "        0.01      , 0.01      , 0.01      , 0.01      , 0.01      ,\n",
       "        0.01      , 0.01      , 0.01      ],\n",
       "       [0.01      , 0.01      , 0.01      , 0.01      , 0.01      ,\n",
       "        0.01      , 0.01388235, 0.01      , 0.13811765, 0.53411765,\n",
       "        0.66611765, 0.51470588, 0.30117647, 0.03717647, 0.01      ,\n",
       "        0.01388235, 0.01776471, 0.01      , 0.01      , 0.01      ,\n",
       "        0.01      , 0.01      , 0.01      , 0.01      , 0.01      ,\n",
       "        0.01      , 0.01      , 0.01      ],\n",
       "       [0.01      , 0.01      , 0.01      , 0.01      , 0.01      ,\n",
       "        0.01      , 0.01      , 0.01      , 0.01      , 0.01      ,\n",
       "        0.01      , 0.01      , 0.01      , 0.01      , 0.02164706,\n",
       "        0.01      , 0.01      , 0.01      , 0.01      , 0.01      ,\n",
       "        0.01      , 0.01      , 0.01      , 0.01      , 0.01      ,\n",
       "        0.01      , 0.01      , 0.01      ],\n",
       "       [0.01      , 0.01      , 0.01      , 0.01      , 0.01      ,\n",
       "        0.01      , 0.01      , 0.01      , 0.01388235, 0.02164706,\n",
       "        0.01776471, 0.02552941, 0.02164706, 0.01388235, 0.01      ,\n",
       "        0.01      , 0.01      , 0.01      , 0.01      , 0.01      ,\n",
       "        0.01      , 0.01      , 0.01      , 0.01      , 0.01      ,\n",
       "        0.01      , 0.01      , 0.01      ],\n",
       "       [0.01      , 0.01      , 0.01      , 0.01      , 0.01      ,\n",
       "        0.01      , 0.01      , 0.01      , 0.01      , 0.01      ,\n",
       "        0.01      , 0.01      , 0.01      , 0.01      , 0.01      ,\n",
       "        0.01      , 0.01      , 0.01      , 0.01      , 0.01      ,\n",
       "        0.01      , 0.01      , 0.01      , 0.01      , 0.01      ,\n",
       "        0.01      , 0.01      , 0.01      ],\n",
       "       [0.01      , 0.01      , 0.01      , 0.01      , 0.01      ,\n",
       "        0.01      , 0.01      , 0.01      , 0.01      , 0.01      ,\n",
       "        0.01      , 0.01      , 0.01      , 0.01      , 0.01      ,\n",
       "        0.01      , 0.01      , 0.01      , 0.01      , 0.01      ,\n",
       "        0.01      , 0.01      , 0.01      , 0.01      , 0.01      ,\n",
       "        0.01      , 0.01      , 0.01      ],\n",
       "       [0.01      , 0.01      , 0.01      , 0.01      , 0.01      ,\n",
       "        0.01      , 0.01      , 0.01      , 0.01      , 0.01      ,\n",
       "        0.01      , 0.01      , 0.01      , 0.01      , 0.01      ,\n",
       "        0.01      , 0.01      , 0.01      , 0.01      , 0.01      ,\n",
       "        0.01      , 0.01      , 0.01      , 0.01      , 0.01      ,\n",
       "        0.01      , 0.01      , 0.01      ]])"
      ]
     },
     "execution_count": 90,
     "metadata": {},
     "output_type": "execute_result"
    }
   ],
   "source": [
    "array"
   ]
  },
  {
   "cell_type": "code",
   "execution_count": 104,
   "metadata": {},
   "outputs": [
    {
     "data": {
      "text/plain": [
       "array([[0.01      , 0.01      , 0.01      , 0.01      , 0.01      ,\n",
       "        0.01      , 0.01      , 0.01      , 0.01      , 0.01      ,\n",
       "        0.01      , 0.01      , 0.01      , 0.01      , 0.01      ,\n",
       "        0.01      , 0.01      , 0.01      , 0.01      , 0.01      ,\n",
       "        0.01      , 0.01      , 0.01      , 0.01      , 0.01      ,\n",
       "        0.01      , 0.01      , 0.01      ],\n",
       "       [0.01      , 0.01      , 0.01      , 0.01      , 0.01      ,\n",
       "        0.01      , 0.01      , 0.01      , 0.01      , 0.01      ,\n",
       "        0.01      , 0.01      , 0.01      , 0.01      , 0.01      ,\n",
       "        0.01      , 0.01      , 0.01      , 0.01      , 0.01      ,\n",
       "        0.01      , 0.01      , 0.01      , 0.01      , 0.01      ,\n",
       "        0.01      , 0.01      , 0.01      ],\n",
       "       [0.01      , 0.01      , 0.01      , 0.01      , 0.01      ,\n",
       "        0.01      , 0.01      , 0.01      , 0.01      , 0.01      ,\n",
       "        0.01      , 0.01      , 0.01      , 0.01      , 0.01      ,\n",
       "        0.01      , 0.01      , 0.01      , 0.01      , 0.01      ,\n",
       "        0.01      , 0.01      , 0.01      , 0.01      , 0.01      ,\n",
       "        0.01      , 0.01      , 0.01      ],\n",
       "       [0.01      , 0.01      , 0.01      , 0.01      , 0.01      ,\n",
       "        0.01      , 0.01      , 0.01      , 0.01      , 0.01      ,\n",
       "        0.01      , 0.01      , 0.01      , 0.01      , 0.01      ,\n",
       "        0.01      , 0.01      , 0.01      , 0.01      , 0.01      ,\n",
       "        0.01      , 0.01      , 0.01      , 0.01      , 0.01      ,\n",
       "        0.01      , 0.01      , 0.01      ],\n",
       "       [0.01      , 0.01      , 0.01      , 0.01      , 0.01      ,\n",
       "        0.01      , 0.01      , 0.01      , 0.01388235, 0.02164706,\n",
       "        0.01      , 0.01      , 0.01      , 0.01      , 0.01      ,\n",
       "        0.01      , 0.01      , 0.01      , 0.01      , 0.01      ,\n",
       "        0.01      , 0.01      , 0.01      , 0.01      , 0.01      ,\n",
       "        0.01      , 0.01      , 0.01      ],\n",
       "       [0.01      , 0.01      , 0.01      , 0.01      , 0.01      ,\n",
       "        0.01      , 0.01      , 0.01      , 0.01      , 0.01      ,\n",
       "        0.36717647, 0.81364706, 0.79423529, 0.80976471, 0.80976471,\n",
       "        0.80976471, 0.80976471, 0.80976471, 0.80588235, 0.80976471,\n",
       "        0.78258824, 0.142     , 0.02164706, 0.01776471, 0.01      ,\n",
       "        0.01      , 0.01      , 0.01      ],\n",
       "       [0.01      , 0.01      , 0.01      , 0.01      , 0.01      ,\n",
       "        0.01      , 0.01776471, 0.01      , 0.208     , 0.72435294,\n",
       "        0.868     , 1.        , 1.        , 1.        , 1.        ,\n",
       "        1.        , 1.        , 1.        , 1.        , 1.        ,\n",
       "        1.        , 0.30117647, 0.04882353, 0.01776471, 0.01      ,\n",
       "        0.01      , 0.01      , 0.01      ],\n",
       "       [0.01      , 0.01      , 0.01      , 0.01      , 0.01      ,\n",
       "        0.01      , 0.02164706, 0.01      , 0.28564706, 1.        ,\n",
       "        0.96505882, 0.41764706, 0.39047059, 0.39047059, 0.38658824,\n",
       "        0.38658824, 0.38658824, 0.38658824, 0.38658824, 0.39047059,\n",
       "        0.37494118, 0.02552941, 0.01      , 0.01388235, 0.01      ,\n",
       "        0.01      , 0.01      , 0.01      ],\n",
       "       [0.01      , 0.01      , 0.01      , 0.01      , 0.01      ,\n",
       "        0.01      , 0.02164706, 0.01      , 0.27011765, 0.98835294,\n",
       "        0.89517647, 0.01      , 0.01      , 0.01      , 0.01      ,\n",
       "        0.01      , 0.01      , 0.01      , 0.01      , 0.01      ,\n",
       "        0.01      , 0.01      , 0.01      , 0.01      , 0.01      ,\n",
       "        0.01      , 0.01      , 0.01      ],\n",
       "       [0.01      , 0.01      , 0.01      , 0.01      , 0.01      ,\n",
       "        0.01      , 0.02164706, 0.01      , 0.26235294, 1.        ,\n",
       "        0.90682353, 0.09152941, 0.04105882, 0.04105882, 0.02941176,\n",
       "        0.02552941, 0.02552941, 0.02552941, 0.02552941, 0.02552941,\n",
       "        0.02552941, 0.01      , 0.01      , 0.01      , 0.01      ,\n",
       "        0.01      , 0.01      , 0.01      ],\n",
       "       [0.01      , 0.01      , 0.01      , 0.01      , 0.01      ,\n",
       "        0.01      , 0.02552941, 0.01      , 0.34776471, 0.99611765,\n",
       "        0.81752941, 0.01      , 0.01      , 0.01      , 0.01      ,\n",
       "        0.02552941, 0.01388235, 0.01      , 0.01      , 0.01      ,\n",
       "        0.01      , 0.01      , 0.01      , 0.01      , 0.01      ,\n",
       "        0.01      , 0.01      , 0.01      ],\n",
       "       [0.01      , 0.01      , 0.01      , 0.01      , 0.01      ,\n",
       "        0.01      , 0.02552941, 0.01      , 0.45258824, 0.98835294,\n",
       "        0.90682353, 0.58847059, 0.42152941, 0.24682353, 0.03717647,\n",
       "        0.01      , 0.01      , 0.02164706, 0.01      , 0.01      ,\n",
       "        0.01      , 0.01      , 0.01      , 0.01      , 0.01      ,\n",
       "        0.01      , 0.01      , 0.01      ],\n",
       "       [0.01      , 0.01      , 0.01      , 0.01      , 0.01      ,\n",
       "        0.01      , 0.02164706, 0.01      , 0.51082353, 1.        ,\n",
       "        1.        , 1.        , 1.        , 1.        , 0.81364706,\n",
       "        0.45647059, 0.09541176, 0.01      , 0.02164706, 0.01      ,\n",
       "        0.01      , 0.01      , 0.01      , 0.01      , 0.01      ,\n",
       "        0.01      , 0.01      , 0.01      ],\n",
       "       [0.01      , 0.01      , 0.01      , 0.01      , 0.01      ,\n",
       "        0.01      , 0.01      , 0.01776471, 0.11482353, 0.45647059,\n",
       "        0.56517647, 0.58847059, 0.78647059, 0.94176471, 1.        ,\n",
       "        1.        , 0.87964706, 0.35941176, 0.01      , 0.02164706,\n",
       "        0.01      , 0.01      , 0.01      , 0.01      , 0.01      ,\n",
       "        0.01      , 0.01      , 0.01      ],\n",
       "       [0.01      , 0.01      , 0.01      , 0.01      , 0.01      ,\n",
       "        0.01      , 0.01      , 0.01      , 0.01      , 0.01      ,\n",
       "        0.01      , 0.01      , 0.01      , 0.12647059, 0.48752941,\n",
       "        0.85247059, 1.        , 0.96894118, 0.46423529, 0.01      ,\n",
       "        0.01388235, 0.01      , 0.01      , 0.01      , 0.01      ,\n",
       "        0.01      , 0.01      , 0.01      ],\n",
       "       [0.01      , 0.01      , 0.01      , 0.01      , 0.01      ,\n",
       "        0.01      , 0.01      , 0.01      , 0.01388235, 0.01388235,\n",
       "        0.02552941, 0.02552941, 0.01388235, 0.01      , 0.01      ,\n",
       "        0.06435294, 0.53411765, 0.94176471, 0.96117647, 0.34776471,\n",
       "        0.01      , 0.02164706, 0.01      , 0.01      , 0.01      ,\n",
       "        0.01      , 0.01      , 0.01      ],\n",
       "       [0.01      , 0.01      , 0.01      , 0.01      , 0.01      ,\n",
       "        0.01      , 0.01      , 0.01      , 0.01      , 0.01      ,\n",
       "        0.01      , 0.01      , 0.01      , 0.01388235, 0.02552941,\n",
       "        0.01      , 0.01      , 0.54188235, 1.        , 0.69717647,\n",
       "        0.01776471, 0.01776471, 0.01      , 0.01      , 0.01      ,\n",
       "        0.01      , 0.01      , 0.01      ],\n",
       "       [0.01      , 0.01      , 0.01      , 0.01      , 0.01      ,\n",
       "        0.01      , 0.01      , 0.01776471, 0.02164706, 0.02552941,\n",
       "        0.01776471, 0.01388235, 0.01388235, 0.01776471, 0.01776471,\n",
       "        0.04105882, 0.03329412, 0.28952941, 0.99611765, 0.868     ,\n",
       "        0.04105882, 0.01      , 0.01388235, 0.01      , 0.01      ,\n",
       "        0.01      , 0.01      , 0.01      ],\n",
       "       [0.01      , 0.01      , 0.01      , 0.01      , 0.01      ,\n",
       "        0.01      , 0.01      , 0.01      , 0.01      , 0.01      ,\n",
       "        0.01      , 0.01      , 0.01      , 0.01      , 0.01      ,\n",
       "        0.01      , 0.01      , 0.35552941, 1.        , 0.82141176,\n",
       "        0.03717647, 0.01      , 0.01388235, 0.01      , 0.01      ,\n",
       "        0.01      , 0.01      , 0.01      ],\n",
       "       [0.01      , 0.01      , 0.01      , 0.01      , 0.01      ,\n",
       "        0.01      , 0.02164706, 0.13811765, 0.472     , 0.51082353,\n",
       "        0.16529412, 0.05658824, 0.04882353, 0.12258824, 0.21576471,\n",
       "        0.36329412, 0.60011765, 0.91070588, 1.        , 0.54576471,\n",
       "        0.01      , 0.02164706, 0.01      , 0.01      , 0.01      ,\n",
       "        0.01      , 0.01      , 0.01      ],\n",
       "       [0.01      , 0.01      , 0.01      , 0.01      , 0.01      ,\n",
       "        0.02164706, 0.01388235, 0.42152941, 1.        , 1.        ,\n",
       "        0.98835294, 0.89517647, 0.89129412, 0.96117647, 1.        ,\n",
       "        1.        , 1.        , 1.        , 0.75152941, 0.09929412,\n",
       "        0.01388235, 0.01388235, 0.01      , 0.01      , 0.01      ,\n",
       "        0.01      , 0.01      , 0.01      ],\n",
       "       [0.01      , 0.01      , 0.01      , 0.01      , 0.01      ,\n",
       "        0.01388235, 0.01388235, 0.04882353, 0.36329412, 0.76317647,\n",
       "        0.98058824, 1.        , 1.        , 1.        , 0.91847059,\n",
       "        0.82529412, 0.65447059, 0.39823529, 0.06823529, 0.01      ,\n",
       "        0.01388235, 0.01      , 0.01      , 0.01      , 0.01      ,\n",
       "        0.01      , 0.01      , 0.01      ],\n",
       "       [0.01      , 0.01      , 0.01      , 0.01      , 0.01      ,\n",
       "        0.01      , 0.01      , 0.01      , 0.01      , 0.01      ,\n",
       "        0.16141176, 0.274     , 0.28952941, 0.18470588, 0.07211765,\n",
       "        0.01776471, 0.01      , 0.01      , 0.01      , 0.01388235,\n",
       "        0.01      , 0.01      , 0.01      , 0.01      , 0.01      ,\n",
       "        0.01      , 0.01      , 0.01      ],\n",
       "       [0.01      , 0.01      , 0.01      , 0.01      , 0.01      ,\n",
       "        0.01      , 0.01      , 0.01      , 0.02164706, 0.01      ,\n",
       "        0.01      , 0.01      , 0.01      , 0.01      , 0.01      ,\n",
       "        0.01      , 0.02164706, 0.02552941, 0.01388235, 0.01      ,\n",
       "        0.01      , 0.01      , 0.01      , 0.01      , 0.01      ,\n",
       "        0.01      , 0.01      , 0.01      ],\n",
       "       [0.01      , 0.01      , 0.01      , 0.01      , 0.01      ,\n",
       "        0.01      , 0.01      , 0.01      , 0.01      , 0.01      ,\n",
       "        0.01776471, 0.02164706, 0.02164706, 0.01776471, 0.01388235,\n",
       "        0.01388235, 0.01      , 0.01      , 0.01      , 0.01      ,\n",
       "        0.01      , 0.01      , 0.01      , 0.01      , 0.01      ,\n",
       "        0.01      , 0.01      , 0.01      ],\n",
       "       [0.01      , 0.01      , 0.01      , 0.01      , 0.01      ,\n",
       "        0.01      , 0.01      , 0.01      , 0.01      , 0.01      ,\n",
       "        0.01      , 0.01      , 0.01      , 0.01      , 0.01      ,\n",
       "        0.01      , 0.01      , 0.01      , 0.01      , 0.01      ,\n",
       "        0.01      , 0.01      , 0.01      , 0.01      , 0.01      ,\n",
       "        0.01      , 0.01      , 0.01      ],\n",
       "       [0.01      , 0.01      , 0.01      , 0.01      , 0.01      ,\n",
       "        0.01      , 0.01      , 0.01      , 0.01      , 0.01      ,\n",
       "        0.01      , 0.01      , 0.01      , 0.01      , 0.01      ,\n",
       "        0.01      , 0.01      , 0.01      , 0.01      , 0.01      ,\n",
       "        0.01      , 0.01      , 0.01      , 0.01      , 0.01      ,\n",
       "        0.01      , 0.01      , 0.01      ],\n",
       "       [0.01      , 0.01      , 0.01      , 0.01      , 0.01      ,\n",
       "        0.01      , 0.01      , 0.01      , 0.01      , 0.01      ,\n",
       "        0.01      , 0.01      , 0.01      , 0.01      , 0.01      ,\n",
       "        0.01      , 0.01      , 0.01      , 0.01      , 0.01      ,\n",
       "        0.01      , 0.01      , 0.01      , 0.01      , 0.01      ,\n",
       "        0.01      , 0.01      , 0.01      ]])"
      ]
     },
     "execution_count": 104,
     "metadata": {},
     "output_type": "execute_result"
    }
   ],
   "source": [
    "b.input_image"
   ]
  },
  {
   "cell_type": "code",
   "execution_count": 105,
   "metadata": {},
   "outputs": [
    {
     "data": {
      "image/png": "[encoded data removed]",
      "text/plain": [
       "<PIL.Image.Image image mode=RGB size=250x250 at 0x117CDE5C0>"
      ]
     },
     "execution_count": 105,
     "metadata": {},
     "output_type": "execute_result"
    }
   ],
   "source": [
    "b.image"
   ]
  },
  {
   "cell_type": "code",
   "execution_count": 106,
   "metadata": {},
   "outputs": [
    {
     "data": {
      "image/png": "[encoded data removed]",
      "text/plain": [
       "<Figure size 432x288 with 1 Axes>"
      ]
     },
     "metadata": {
      "needs_background": "light"
     },
     "output_type": "display_data"
    }
   ],
   "source": [
    "plt.show(plt.imshow(b.input_image))"
   ]
  }
 ],
 "metadata": {
  "kernelspec": {
   "display_name": "Python 3",
   "language": "python",
   "name": "python3"
  },
  "language_info": {
   "codemirror_mode": {
    "name": "ipython",
    "version": 3
   },
   "file_extension": ".py",
   "mimetype": "text/x-python",
   "name": "python",
   "nbconvert_exporter": "python",
   "pygments_lexer": "ipython3",
   "version": "3.7.1"
  }
 },
 "nbformat": 4,
 "nbformat_minor": 2
}
