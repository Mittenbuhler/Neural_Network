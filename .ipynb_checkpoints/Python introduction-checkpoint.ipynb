{
 "cells": [
  {
   "cell_type": "markdown",
   "metadata": {},
   "source": [
    "# I) Introduction to Neural Networks\n",
    "from: https://www.python-course.eu/neural_networks.php\n",
    "\n",
    "ANNs work the same way as neurons in the brain: they consists of many nodes (i.e. somas) that receive inputs from other nodes (i.e. dendrites). Every node has weights each input individually, then adds up the sum of all weighted inputs. If this value is above a certain threshold that is an attribute of the node, it will 'fire' to the next nodes (i.e. axons)."
   ]
  },
  {
   "cell_type": "markdown",
   "metadata": {},
   "source": [
    "### 1. Building principle\n",
    "The following code initializes a small neural network that performs an `AND` operator."
   ]
  },
  {
   "cell_type": "code",
   "execution_count": 4,
   "metadata": {},
   "outputs": [
    {
     "name": "stdout",
     "output_type": "stream",
     "text": [
      "[0 0] 0\n",
      "[1 0] 0\n",
      "[0 1] 0\n",
      "[1 1] 1\n"
     ]
    }
   ],
   "source": [
    "import numpy as np\n",
    "\n",
    "class Perceptron:\n",
    "    \n",
    "    def __init__(self, input_length, weights=None):# If we call the class, we initiate a new incident with the attribute 'weights'\n",
    "        if weights is None:\n",
    "            self.weights = np.ones(input_length) * 0.5\n",
    "        else:\n",
    "            self.weights = weights\n",
    "            \n",
    "    @staticmethod\n",
    "    def unit_step_function(x): # Check if value is higher than 0.5 (this is the threshold)\n",
    "        if x > 0.5:\n",
    "            return 1\n",
    "        return 0\n",
    "    \n",
    "    def __call__(self, in_data): # Here, we multiply the weights with the input and take the sum (i.e. we compute the value of the node)\n",
    "        weighted_input = self.weights * in_data\n",
    "        weighted_sum = weighted_input.sum()\n",
    "        return Perceptron.unit_step_function(weighted_sum) # Then we check if it is higher than 0.5\n",
    "    \n",
    "p = Perceptron(2, np.array([0.5,0.5])) # We initialize a neural network with 2 nodes, and each with a weight of 0.5\n",
    "\n",
    "# Now we try different inputs\n",
    "for x in [np.array([0,0]),np.array([1,0]),np.array([0,1]),np.array([1,1])]:\n",
    "    y = p(x) # compute the output of the neural network with each input\n",
    "    print(x, y)"
   ]
  },
  {
   "cell_type": "markdown",
   "metadata": {},
   "source": [
    "### 2. Line separation\n",
    "The following code initializes _and trains_ a NN to seperate two classes in a two-dimensional space. Each node represents one dimension.\n",
    "\n",
    "The decision boundary of the NN is where $x_1w_1 + x_2w_2 = 0$\n",
    "\n",
    "This again corresponds to $x_2 = -\\frac{w_1}{w_2}x_1$ which is the function of a straight line through the origin."
   ]
  },
  {
   "cell_type": "code",
   "execution_count": 75,
   "metadata": {},
   "outputs": [
    {
     "name": "stdout",
     "output_type": "stream",
     "text": [
      "[('correct', 93), ('wrong', 7)]\n"
     ]
    }
   ],
   "source": [
    "from collections import Counter\n",
    "\n",
    "class Perceptron:\n",
    "    \n",
    "    def __init__(self, input_length, weights=None):# If we call the class, we initiate a new incident with the attribute 'weights'\n",
    "        if weights == None:\n",
    "            self.weights = np.random.random((input_length)) * 2 - 1 # random number between -1 and 1 (from uniform dist)\n",
    "        self.learning_rate = 0.1\n",
    "            \n",
    "    @staticmethod\n",
    "    def unit_step_function(x): # Fire if value is at least 0\n",
    "        if x < 0:\n",
    "            return 0\n",
    "        return 1\n",
    "    \n",
    "    def __call__(self, in_data): # Here, we multiply the weights with the input and take the sum (i.e. we compute the value of the node)\n",
    "        weighted_input = self.weights * in_data\n",
    "        weighted_sum = weighted_input.sum()\n",
    "        return Perceptron.unit_step_function(weighted_sum) # Then we check if it is higher than 0.5\n",
    "    \n",
    "    def adjust(self, target, prediction, in_data): # Very basic learning function\n",
    "        error = target - prediction\n",
    "        for i in range(len(in_data)): # for each weight\n",
    "            correction = error * in_data[i] * self.learning_rate\n",
    "            self.weights[i] += correction # add to each weight the error weighted by the datapoint and the step size\n",
    "\n",
    "            \n",
    "points = np.random.randint(1, 100, (100, 2)) # generate some points to classify\n",
    "def lin1(x): # line that separates/classifies the points\n",
    "    return x + 4\n",
    "def above_line(point, line_func): # this function classifies the points as being above the line (1) or below (0)\n",
    "    x, y = point\n",
    "    if y > line_func(x):\n",
    "        return 1\n",
    "    else:\n",
    "        return 0\n",
    "\n",
    "\n",
    "p = Perceptron(2) # initialize NN with two nodes\n",
    "\n",
    "for point in points:\n",
    "    p.adjust(above_line(point, lin1), p(point), point)\n",
    "\n",
    "evaluation = Counter()\n",
    "    \n",
    "for point in points:\n",
    "    if p(point) == above_line(point, lin1):\n",
    "        evaluation['correct'] += 1\n",
    "    else:\n",
    "        evaluation['wrong'] += 1\n",
    "        \n",
    "print(evaluation.most_common()) # more wrong or more correct?"
   ]
  },
  {
   "cell_type": "code",
   "execution_count": 19,
   "metadata": {
    "scrolled": true
   },
   "outputs": [
    {
     "ename": "NameError",
     "evalue": "name 'points' is not defined",
     "output_type": "error",
     "traceback": [
      "\u001b[0;31m---------------------------------------------------------------------------\u001b[0m",
      "\u001b[0;31mNameError\u001b[0m                                 Traceback (most recent call last)",
      "\u001b[0;32m<ipython-input-19-91f977aa709c>\u001b[0m in \u001b[0;36m<module>\u001b[0;34m\u001b[0m\n\u001b[1;32m      5\u001b[0m \u001b[0;34m\u001b[0m\u001b[0m\n\u001b[1;32m      6\u001b[0m \u001b[0mcls\u001b[0m \u001b[0;34m=\u001b[0m \u001b[0;34m[\u001b[0m\u001b[0;34m[\u001b[0m\u001b[0;34m]\u001b[0m\u001b[0;34m,\u001b[0m \u001b[0;34m[\u001b[0m\u001b[0;34m]\u001b[0m\u001b[0;34m]\u001b[0m\u001b[0;34m\u001b[0m\u001b[0;34m\u001b[0m\u001b[0m\n\u001b[0;32m----> 7\u001b[0;31m \u001b[0;32mfor\u001b[0m \u001b[0mpoint\u001b[0m \u001b[0;32min\u001b[0m \u001b[0mpoints\u001b[0m\u001b[0;34m:\u001b[0m\u001b[0;34m\u001b[0m\u001b[0;34m\u001b[0m\u001b[0m\n\u001b[0m\u001b[1;32m      8\u001b[0m     \u001b[0mcls\u001b[0m\u001b[0;34m[\u001b[0m\u001b[0mabove_line\u001b[0m\u001b[0;34m(\u001b[0m\u001b[0mpoint\u001b[0m\u001b[0;34m,\u001b[0m \u001b[0mlin1\u001b[0m\u001b[0;34m)\u001b[0m\u001b[0;34m]\u001b[0m\u001b[0;34m.\u001b[0m\u001b[0mappend\u001b[0m\u001b[0;34m(\u001b[0m\u001b[0mtuple\u001b[0m\u001b[0;34m(\u001b[0m\u001b[0mpoint\u001b[0m\u001b[0;34m)\u001b[0m\u001b[0;34m)\u001b[0m\u001b[0;34m\u001b[0m\u001b[0;34m\u001b[0m\u001b[0m\n\u001b[1;32m      9\u001b[0m \u001b[0mcolours\u001b[0m \u001b[0;34m=\u001b[0m \u001b[0;34m(\u001b[0m\u001b[0;34m\"r\"\u001b[0m\u001b[0;34m,\u001b[0m \u001b[0;34m\"b\"\u001b[0m\u001b[0;34m)\u001b[0m\u001b[0;34m\u001b[0m\u001b[0;34m\u001b[0m\u001b[0m\n",
      "\u001b[0;31mNameError\u001b[0m: name 'points' is not defined"
     ]
    }
   ],
   "source": [
    "# Let's see how good the decision boundary of our NN can distinguish between the classes \n",
    "# (in comparison to the true boundary)\n",
    "%matplotlib inline \n",
    "from matplotlib import pyplot as plt\n",
    "\n",
    "cls = [[], []]\n",
    "for point in points:\n",
    "    cls[above_line(point, lin1)].append(tuple(point))\n",
    "colours = (\"r\", \"b\")\n",
    "\n",
    "for i in range(2):\n",
    "    X, Y = zip(*cls[i])\n",
    "    plt.scatter(X, Y, c=colours[i])\n",
    "    \n",
    "X = np.arange(-3, 120)\n",
    "    \n",
    "m = -p.weights[0] / p.weights[1]\n",
    "print('slope: ' + str(m))\n",
    "\n",
    "plt.plot(X, m*X, label=\"ANN line\")\n",
    "plt.plot(X, lin1(X), label=\"line1\")\n",
    "plt.legend()\n",
    "plt.show()"
   ]
  },
  {
   "cell_type": "markdown",
   "metadata": {},
   "source": [
    "### 3. Linearly inseperable NNs\n",
    "If a single line is not enough to separate two classes (for example in the XOR case), we need an additional 'hidden' layer."
   ]
  },
  {
   "cell_type": "markdown",
   "metadata": {},
   "source": [
    "### 4. Bias\n",
    "In some cases, a line through the origin cannot separate two classes (e.g., when one class is scattered around the origin). In that case we need a __bias__ (i.e. an intercept). A bias is a node that does not receive any input - its output just depends on its weight.\n",
    "\n",
    "$x_1w_1 + x_2w_2 + bw_3 = 0$\n",
    "\n",
    "$x_2 = -\\frac{w_1}{w_2}x_1 -\\frac{w_3}{w_2}b$"
   ]
  },
  {
   "cell_type": "code",
   "execution_count": 74,
   "metadata": {},
   "outputs": [
    {
     "data": {
      "image/png": "[encoded data removed]",
      "text/plain": [
       "<Figure size 432x288 with 1 Axes>"
      ]
     },
     "metadata": {
      "needs_background": "light"
     },
     "output_type": "display_data"
    }
   ],
   "source": [
    "# Generate some data, that cannot be separated by a line through the origin\n",
    "npoints = 50\n",
    "X, Y = [], []\n",
    "# class 0\n",
    "X.append(np.random.uniform(low=-2.5, high=2.3, size=(npoints,)) )\n",
    "Y.append(np.random.uniform(low=-1.7, high=2.8, size=(npoints,)))\n",
    "# class 1\n",
    "X.append(np.random.uniform(low=-7.2, high=-4.4, size=(npoints,)) )\n",
    "Y.append(np.random.uniform(low=3, high=6.5, size=(npoints,)))\n",
    "learnset = []\n",
    "for i in range(2):\n",
    "    # adding points of class i to learnset\n",
    "    points = zip(X[i], Y[i])\n",
    "    for p in points:\n",
    "        learnset.append((p, i))\n",
    "colours = [\"b\", \"r\"]\n",
    "for i in range(2):\n",
    "    plt.scatter(X[i], Y[i], c=colours[i])"
   ]
  },
  {
   "cell_type": "code",
   "execution_count": 79,
   "metadata": {},
   "outputs": [],
   "source": [
    "# Define new class that takes into account bias:\n",
    "class Perceptron:\n",
    "    \n",
    "    def __init__(self, input_length, weights=None):\n",
    "        if weights==None:\n",
    "            self.weights = np.random.random((input_length + 1)) * 2 - 1 # + 1 because bias needs a weight as well\n",
    "        self.learning_rate = 0.05\n",
    "        self.bias = 1 # define bias (number does not matter, I guess)\n",
    "    \n",
    "    @staticmethod\n",
    "    def sigmoid_function(x): # sigmoid function as threshold (sigmoid is used as link function to fit betwenn 0 and 1)\n",
    "        res = 1 / (1 + np.power(np.e, -x))\n",
    "        return 0 if res < 0.5 else 1\n",
    "        \n",
    "    def __call__(self, in_data): # compute output and check if its above or below 0.5 in the sigmoid function\n",
    "        weighted_input = self.weights[:-1] * in_data # no input for the bias\n",
    "        weighted_sum = weighted_input.sum() + self.bias * self.weights[-1]\n",
    "        return Perceptron.sigmoid_function(weighted_sum)\n",
    "    \n",
    "    def adjust(self, target, prediction, in_data):\n",
    "        error = target - prediction\n",
    "        for i in range(len(in_data)):\n",
    "            correction = error * in_data[i] * self.learning_rate\n",
    "            self.weights[i] += correction \n",
    "        correction = error * self.bias * self.learning_rate # correct bias\n",
    "        self.weights[-1] += correction "
   ]
  },
  {
   "cell_type": "code",
   "execution_count": 89,
   "metadata": {},
   "outputs": [
    {
     "name": "stdout",
     "output_type": "stream",
     "text": [
      "[('correct', 100)]\n"
     ]
    }
   ],
   "source": [
    "# Train NN:\n",
    "p = Perceptron(2) # initialize NN\n",
    "\n",
    "for point, label in learnset: # train NN\n",
    "    p.adjust(label, p(point), point) \n",
    "    \n",
    "evaluation = Counter() # evlauate NN\n",
    "for point, label in learnset:\n",
    "    if p(point) == label:\n",
    "        evaluation[\"correct\"] += 1\n",
    "    else:\n",
    "        evaluation[\"wrong\"] += 1\n",
    "print(evaluation.most_common())"
   ]
  },
  {
   "cell_type": "code",
   "execution_count": 90,
   "metadata": {},
   "outputs": [
    {
     "name": "stdout",
     "output_type": "stream",
     "text": [
      "30.56138278128663 84.63319115221464\n"
     ]
    },
    {
     "data": {
      "image/png": "[encoded data removed]",
      "text/plain": [
       "<Figure size 432x288 with 1 Axes>"
      ]
     },
     "metadata": {
      "needs_background": "light"
     },
     "output_type": "display_data"
    }
   ],
   "source": [
    "# Plot NN:\n",
    "colours = [\"b\", \"r\"]\n",
    "for i in range(2):\n",
    "    plt.scatter(X[i], Y[i], c=colours[i])\n",
    "XR = np.arange(-8, 4)  \n",
    "m = -p.weights[0] / p.weights[1]\n",
    "b = -p.weights[-1]/p.weights[1]\n",
    "print(m, b)\n",
    "plt.plot(XR, m*XR + b, label=\"decision boundary\")\n",
    "plt.legend()\n",
    "plt.show()"
   ]
  },
  {
   "cell_type": "markdown",
   "metadata": {},
   "source": [
    "# II) Neural Networks with Numpy\n",
    "In the previous chapter, the NNs had only two layers (input and output). Now we will (a) add hidden layers that allow for more elaborate computations and (b) matrix algebra instead of loop structures to make the training process more efficient.\n"
   ]
  },
  {
   "cell_type": "code",
   "execution_count": 2,
   "metadata": {},
   "outputs": [
    {
     "data": {
      "text/html": [
       "<img src='img/basic_NN.png', width = 500>\n"
      ],
      "text/plain": [
       "<IPython.core.display.HTML object>"
      ]
     },
     "metadata": {},
     "output_type": "display_data"
    }
   ],
   "source": [
    "%%html\n",
    "<img src='img/basic_NN.png', width = 500>"
   ]
  },
  {
   "cell_type": "markdown",
   "metadata": {},
   "source": [
    "This image shows a simple NN with one hidden layer. Every arrow originating from a node is associated with a weight $w_{ij}$.\n",
    "\n",
    "The nodes of the input layer ($i_1, i_2, i_3$) receive the input ($x_1, x_2, x_3$). The nodes of the hidden layer ($h_1$ to $h_4$) receive the weighted output of the nodes in the input layer (i.e. $Ih_1 = w_{11}i_1 + w_{12}i_2 + w_{13}i_3$).\n",
    "\n",
    "With matrix algebra, this is much simpler. For the inputs for each of the nodes of the hidden layer we get $Ih = Wi$ (where the matrix $W$ is referred to as the weights-from-input-to-hidden (wih) matrix.\n",
    "\n",
    "To obtain the input for the nodes in the output layer ($o_1, o_2$), we do the same thing ($Io = Wh$), but here the matrix $W$ comprises the weights-from-hidden-to-output-layer (who).\n",
    "\n",
    "Additionally to these weighted inputs, each node has an activation function $\\Phi$ that determines if the cell fires or not (i.e. the threshold)."
   ]
  },
  {
   "cell_type": "markdown",
   "metadata": {},
   "source": [
    "### 1. Initializing weight matrices\n",
    "Weights can be drawn from different distributions: uniform (`np.random.uniform`), binomial (`np.random.binomial`), or normal (in this case we need to truncate the distribution with `truncnorm`).\n",
    "\n",
    "The best guess is to use a trucated normal with the interval ($-\\frac{1}{\\sqrt{n}}, \\frac{1}{\\sqrt{n}}$)"
   ]
  },
  {
   "cell_type": "code",
   "execution_count": 11,
   "metadata": {},
   "outputs": [
    {
     "name": "stdout",
     "output_type": "stream",
     "text": [
      "wih\n",
      " [[ 0.26869904 -0.1775948   0.30350408]\n",
      " [-0.00808526  0.25183218  0.40446923]\n",
      " [-0.32093981  0.22857493  0.20449417]\n",
      " [-0.1226178   0.07397989  0.10411523]]\n",
      "who\n",
      " [[ 0.11315844  0.09867007  0.4267691   0.22589845]\n",
      " [ 0.41463747  0.24378826  0.4630077  -0.05355038]]\n"
     ]
    }
   ],
   "source": [
    "# Initialize wih matrix\n",
    "from scipy.stats import truncnorm\n",
    "def truncated_normal(mean=0, sd=1, low=0, upp=10): # define easier function of truncnorm\n",
    "    return truncnorm((low - mean) / sd, (upp - mean) / sd, loc=mean, scale=sd)\n",
    "no_of_input_nodes = 3\n",
    "no_of_hidden_nodes = 4\n",
    "rad = 1 / np.sqrt(no_of_input_nodes)\n",
    "X = truncated_normal(mean=2, sd=1, low=-rad, upp=rad)\n",
    "wih = X.rvs((no_of_hidden_nodes, no_of_input_nodes))\n",
    "print('wih\\n', wih)\n",
    "\n",
    "# Initialize who matrix\n",
    "no_of_hidden_nodes = 4\n",
    "no_of_output_nodes = 2\n",
    "rad = 1 / np.sqrt(no_of_hidden_nodes)  # this is the input in this layer!\n",
    "X = truncated_normal(mean=2, sd=1, low=-rad, upp=rad)\n",
    "who = X.rvs((no_of_output_nodes, no_of_hidden_nodes))\n",
    "print('who\\n', who)"
   ]
  },
  {
   "cell_type": "code",
   "execution_count": 15,
   "metadata": {},
   "outputs": [],
   "source": [
    "# Set-up class for Neural Network\n",
    "class NeuralNetwork:\n",
    "    \n",
    "    def __init__(self, no_of_in_nodes, no_of_out_nodes, no_of_hidden_nodes, learning_rate): # initalize NN instant with certain attributes\n",
    "        self.no_of_in_nodes = no_of_in_nodes\n",
    "        self.no_of_out_nodes = no_of_out_nodes \n",
    "        self.no_of_hidden_nodes = no_of_hidden_nodes\n",
    "        self.learning_rate = learning_rate  \n",
    "        self.create_weight_matrices() # for clarity, the weight matrix is added with an additional function (instead of defining it as an attribute now)\n",
    "        \n",
    "    def create_weight_matrices(self): # now we initialize the weight attribute of our NN\n",
    "        rad = 1 / np.sqrt(self.no_of_in_nodes)\n",
    "        X = truncated_normal(mean=0, sd=1, low=-rad, upp=rad)\n",
    "        self.weights_in_hidden = X.rvs((self.no_of_hidden_nodes, self.no_of_in_nodes)) # initialize wih\n",
    "        rad = 1 / np.sqrt(self.no_of_hidden_nodes)\n",
    "        X = truncated_normal(mean=0, sd=1, low=-rad, upp=rad)\n",
    "        self.weights_hidden_out = X.rvs((self.no_of_out_nodes, self.no_of_hidden_nodes)) # initialize who\n",
    "    \n",
    "    def train(self):\n",
    "        pass\n",
    "    \n",
    "    def run(self):\n",
    "        pass"
   ]
  },
  {
   "cell_type": "code",
   "execution_count": 16,
   "metadata": {},
   "outputs": [
    {
     "name": "stdout",
     "output_type": "stream",
     "text": [
      "[[-0.20605397  0.4089649  -0.47835099]\n",
      " [ 0.35447661  0.09931949  0.38219512]\n",
      " [ 0.01866045 -0.06313704 -0.45105711]\n",
      " [ 0.33257288 -0.49199553  0.22432326]]\n",
      "[[-0.00244572 -0.18322861  0.45057527 -0.45832513]\n",
      " [-0.13078771 -0.47680078  0.36315299  0.03544602]]\n"
     ]
    }
   ],
   "source": [
    "# Initalize a NN\n",
    "simple_network = NeuralNetwork(no_of_in_nodes = 3, no_of_out_nodes = 2, no_of_hidden_nodes = 4, learning_rate = 0.1)\n",
    "\n",
    "# Check if it worked\n",
    "print(simple_network.weights_in_hidden)\n",
    "print(simple_network.weights_hidden_out)"
   ]
  },
  {
   "cell_type": "markdown",
   "metadata": {},
   "source": [
    "### 2. Activation functions\n",
    "As described above we not only need the weighed input, but also an activation function. This function defines if a neural fires based on a certain input (i.e. like a threshold). It basically defines how nodes handle the input they get.\n",
    "\n",
    "One of the most often used activation functions is the sigmoid function:\n",
    "$$ \\sigma(x) = \\frac{1}{1 + e^{-x}} $$"
   ]
  },
  {
   "cell_type": "code",
   "execution_count": 37,
   "metadata": {},
   "outputs": [
    {
     "data": {
      "image/png": "[encoded data removed]",
      "text/plain": [
       "<Figure size 432x288 with 1 Axes>"
      ]
     },
     "metadata": {
      "needs_background": "light"
     },
     "output_type": "display_data"
    }
   ],
   "source": [
    "# Define sigmoid function:\n",
    "@np.vectorize # vectorize sigmoid function to make it more compatible (?)\n",
    "def sigmoid(x):\n",
    "    return 1/(1+np.exp(-x))\n",
    "\n",
    "#Plot it:\n",
    "x = np.arange(-6,7)\n",
    "plt.plot(x,sigmoid(x))\n",
    "plt.show()"
   ]
  },
  {
   "cell_type": "code",
   "execution_count": 38,
   "metadata": {},
   "outputs": [
    {
     "data": {
      "image/png": "[encoded data removed]",
      "text/plain": [
       "<Figure size 432x288 with 1 Axes>"
      ]
     },
     "metadata": {
      "needs_background": "light"
     },
     "output_type": "display_data"
    }
   ],
   "source": [
    "# Define ReLU function:\n",
    "@np.vectorize\n",
    "def ReLU(x):\n",
    "    return np.maximum(0.0, x)\n",
    "\n",
    "#Plot it:\n",
    "x = np.arange(-6,7)\n",
    "plt.plot(x,ReLU(x))\n",
    "plt.show()"
   ]
  },
  {
   "cell_type": "markdown",
   "metadata": {},
   "source": [
    "### 3. Computing output of NN\n",
    "To compute the output, we add a method that takes the dot product of wih/who and the input vector, then runs this throgh the activation function."
   ]
  },
  {
   "cell_type": "code",
   "execution_count": 34,
   "metadata": {},
   "outputs": [],
   "source": [
    "class NeuralNetwork:\n",
    "    \n",
    "    def __init__(self, no_of_in_nodes, no_of_out_nodes, no_of_hidden_nodes, learning_rate): # initalize NN instant with certain attributes\n",
    "        self.no_of_in_nodes = no_of_in_nodes\n",
    "        self.no_of_out_nodes = no_of_out_nodes \n",
    "        self.no_of_hidden_nodes = no_of_hidden_nodes\n",
    "        self.learning_rate = learning_rate  \n",
    "        self.create_weight_matrices() # for clarity, the weight matrix is added with an additional function (instead of defining it as an attribute now)\n",
    "        \n",
    "    def create_weight_matrices(self): # now we initialize the weight attribute of our NN\n",
    "        rad = 1 / np.sqrt(self.no_of_in_nodes)\n",
    "        X = truncated_normal(mean=0, sd=1, low=-rad, upp=rad)\n",
    "        self.weights_in_hidden = X.rvs((self.no_of_hidden_nodes, self.no_of_in_nodes)) # initialize wih\n",
    "        rad = 1 / np.sqrt(self.no_of_hidden_nodes)\n",
    "        X = truncated_normal(mean=0, sd=1, low=-rad, upp=rad)\n",
    "        self.weights_hidden_out = X.rvs((self.no_of_out_nodes, self.no_of_hidden_nodes)) # initialize who\n",
    "    \n",
    "    def train(self):\n",
    "        pass\n",
    "    \n",
    "    def run(self, input_vector):\n",
    "        input_vector = np.array(input_vector, ndmin=2).T # transpose vector to one-column matrix\n",
    "        output_vector = sigmoid(np.dot(self.weights_in_hidden, input_vector))        \n",
    "        output_vector = sigmoid(np.dot(self.weights_hidden_out, output_vector))\n",
    "\n",
    "        return output_vector"
   ]
  },
  {
   "cell_type": "code",
   "execution_count": 35,
   "metadata": {},
   "outputs": [
    {
     "data": {
      "text/plain": [
       "array([[0.47388555],\n",
       "       [0.52954811]])"
      ]
     },
     "execution_count": 35,
     "metadata": {},
     "output_type": "execute_result"
    }
   ],
   "source": [
    "# Let's see if our NN can already compute something (the output is nonsensical, yet, because the weights are random)\n",
    "simple_network = NeuralNetwork(no_of_in_nodes=2, no_of_out_nodes=2, no_of_hidden_nodes=10, learning_rate=0.6)\n",
    "simple_network.run([(3, 4)])"
   ]
  },
  {
   "cell_type": "markdown",
   "metadata": {},
   "source": [
    "### 4. Adding a training method\n",
    "To train the weights of our NN, we go through two steps:\n",
    "\n",
    "1) We compute the __output-error__ of our network (target minus output from output layer) -> This error determines how we update the __who__ weights\n",
    "\n",
    "2) We compute the __hidden-error__ of our network (dot product of the wih weights and the outpur error) -> This error determines how we update the __wih__ weights"
   ]
  },
  {
   "cell_type": "code",
   "execution_count": 52,
   "metadata": {},
   "outputs": [],
   "source": [
    "class NeuralNetwork:\n",
    "    \n",
    "    def __init__(self, no_of_in_nodes, no_of_out_nodes, no_of_hidden_nodes, learning_rate): # initalize NN instant with certain attributes\n",
    "        self.no_of_in_nodes = no_of_in_nodes\n",
    "        self.no_of_out_nodes = no_of_out_nodes \n",
    "        self.no_of_hidden_nodes = no_of_hidden_nodes\n",
    "        self.learning_rate = learning_rate  \n",
    "        self.create_weight_matrices() # for clarity, the weight matrix is added with an additional function (instead of defining it as an attribute now)\n",
    "        \n",
    "    def create_weight_matrices(self): # now we initialize the weight attribute of our NN\n",
    "        rad = 1 / np.sqrt(self.no_of_in_nodes)\n",
    "        X = truncated_normal(mean=0, sd=1, low=-rad, upp=rad)\n",
    "        self.weights_in_hidden = X.rvs((self.no_of_hidden_nodes, self.no_of_in_nodes)) # initialize wih\n",
    "        rad = 1 / np.sqrt(self.no_of_hidden_nodes)\n",
    "        X = truncated_normal(mean=0, sd=1, low=-rad, upp=rad)\n",
    "        self.weights_hidden_out = X.rvs((self.no_of_out_nodes, self.no_of_hidden_nodes)) # initialize who\n",
    "    \n",
    "    def train(self, input_vector, target_vector):\n",
    "        # Transpose vectors:\n",
    "        input_vector = np.array(input_vector, ndmin=2).T\n",
    "        target_vector = np.array(target_vector, ndmin=2).T\n",
    "        \n",
    "        # Compute output of hidden and output layer:\n",
    "        output_vector_hidden = sigmoid(np.dot(self.weights_in_hidden, input_vector)) \n",
    "        output_vector_network = sigmoid(np.dot(self.weights_hidden_out, output_vector_hidden))\n",
    "        \n",
    "        # Compute output error:\n",
    "        output_errors = target_vector - output_vector_network       \n",
    "        # Update who weights:\n",
    "        tmp = output_errors * output_vector_network * (1.0 - output_vector_network)     \n",
    "        correction = self.learning_rate  * np.dot(tmp, output_vector_hidden.T)\n",
    "        self.weights_hidden_out += correction\n",
    "        \n",
    "        # Compute hidden error:\n",
    "        hidden_errors = np.dot(self.weights_hidden_out.T, output_errors) # why?       \n",
    "        # Update wih weights:\n",
    "        tmp = hidden_errors * output_vector_hidden * (1.0 - output_vector_hidden)\n",
    "        correction = self.learning_rate  * np.dot(tmp, input_vector.T)\n",
    "        self.weights_in_hidden += correction\n",
    "    \n",
    "    def run(self, input_vector):\n",
    "        input_vector = np.array(input_vector, ndmin=2).T # transpose vector to one-column matrix\n",
    "        output_vector = sigmoid(np.dot(self.weights_in_hidden, input_vector))        \n",
    "        output_vector = sigmoid(np.dot(self.weights_hidden_out, output_vector))\n",
    "\n",
    "        return output_vector"
   ]
  },
  {
   "cell_type": "code",
   "execution_count": 53,
   "metadata": {},
   "outputs": [
    {
     "data": {
      "image/png": "[encoded data removed]",
      "text/plain": [
       "<Figure size 432x288 with 1 Axes>"
      ]
     },
     "metadata": {
      "needs_background": "light"
     },
     "output_type": "display_data"
    }
   ],
   "source": [
    "# Get some sample data\n",
    "data1 = [((3, 4), (0.99, 0.01)), ((4.2, 5.3), (0.99, 0.01)), \n",
    "         ((4, 3), (0.99, 0.01)), ((6, 5), (0.99, 0.01)), \n",
    "         ((4, 6), (0.99, 0.01)), ((3.7, 5.8), (0.99, 0.01)), \n",
    "         ((3.2, 4.6), (0.99, 0.01)), ((5.2, 5.9), (0.99, 0.01)), \n",
    "         ((5, 4), (0.99, 0.01)), ((7, 4), (0.99, 0.01)), \n",
    "         ((3, 7), (0.99, 0.01)), ((4.3, 4.3), (0.99, 0.01))]\n",
    "data2 = [((-3, -4), (0.01, 0.99)), ((-2, -3.5), (0.01, 0.99)), \n",
    "         ((-1, -6), (0.01, 0.99)), ((-3, -4.3), (0.01, 0.99)), \n",
    "         ((-4, -5.6), (0.01, 0.99)), ((-3.2, -4.8), (0.01, 0.99)), \n",
    "         ((-2.3, -4.3), (0.01, 0.99)), ((-2.7, -2.6), (0.01, 0.99)), \n",
    "         ((-1.5, -3.6), (0.01, 0.99)), ((-3.6, -5.6), (0.01, 0.99)), \n",
    "         ((-4.5, -4.6), (0.01, 0.99)), ((-3.7, -5.8), (0.01, 0.99))]\n",
    "data = data1 + data2\n",
    "np.random.shuffle(data)\n",
    "points1, labels1 = zip(*data1)\n",
    "X, Y = zip(*points1)\n",
    "plt.scatter(X, Y, c=\"r\")\n",
    "points2, labels2 = zip(*data2)\n",
    "X, Y = zip(*points2)\n",
    "plt.scatter(X, Y, c=\"b\")\n",
    "plt.show()"
   ]
  },
  {
   "cell_type": "code",
   "execution_count": 64,
   "metadata": {},
   "outputs": [
    {
     "name": "stdout",
     "output_type": "stream",
     "text": [
      "(-4.5, -4.6) [0.32733766] [0.62502239]: class2 correct (0.01, 0.99)\n",
      "(3, 7) [0.72545276] [0.37072564]: class1 correct (0.99, 0.01)\n",
      "(3.7, 5.8) [0.72515205] [0.37095615]: class1 correct (0.99, 0.01)\n",
      "(5.2, 5.9) [0.72537494] [0.37079687]: class1 correct (0.99, 0.01)\n",
      "(5, 4) [0.72380942] [0.37202204]: class1 correct (0.99, 0.01)\n",
      "(-3, -4.3) [0.32880088] [0.62406016]: class2 correct (0.01, 0.99)\n",
      "(4.2, 5.3) [0.7249689] [0.37110218]: class1 correct (0.99, 0.01)\n",
      "(3, 4) [0.722332] [0.37306245]: class1 correct (0.99, 0.01)\n",
      "(4, 6) [0.72528109] [0.37086109]: class1 correct (0.99, 0.01)\n",
      "(-3.2, -4.8) [0.32766706] [0.62482857]: class2 correct (0.01, 0.99)\n",
      "(6, 5) [0.72510453] [0.37101554]: class1 correct (0.99, 0.01)\n",
      "(7, 4) [0.72450888] [0.37150287]: class1 correct (0.99, 0.01)\n",
      "(4.3, 4.3) [0.72396076] [0.3718827]: class1 correct (0.99, 0.01)\n",
      "(-1, -6) [0.32733754] [0.62511217]: class2 correct (0.01, 0.99)\n",
      "(-2.3, -4.3) [0.32956801] [0.62358312]: class2 correct (0.01, 0.99)\n",
      "(-2.7, -2.6) [0.33994251] [0.61647894]: class2 correct (0.01, 0.99)\n",
      "(-2, -3.5) [0.33402854] [0.62062202]: class2 correct (0.01, 0.99)\n",
      "(-3, -4) [0.32966661] [0.62346692]: class2 correct (0.01, 0.99)\n",
      "(-1.5, -3.6) [0.33482943] [0.62017098]: class2 correct (0.01, 0.99)\n",
      "(-3.6, -5.6) [0.32669647] [0.62548648]: class2 correct (0.01, 0.99)\n",
      "(4, 3) [0.71961258] [0.37522623]: class1 correct (0.99, 0.01)\n"
     ]
    }
   ],
   "source": [
    "# Try out NN\n",
    "# Initialize NN:\n",
    "simple_network = NeuralNetwork(no_of_in_nodes=2, no_of_out_nodes=2, no_of_hidden_nodes=2, learning_rate=0.6)\n",
    "\n",
    "# Split training and test set:\n",
    "size_of_learn_sample = int(len(data)*0.9)\n",
    "learn_data = data[:size_of_learn_sample]\n",
    "test_data = data[-size_of_learn_sample:]\n",
    "\n",
    "# Train NN:\n",
    "for i in range(size_of_learn_sample):\n",
    "    point, label = learn_data[i][0], learn_data[i][1]\n",
    "    simple_network.train(point, label)\n",
    "\n",
    "# Check performance of NN:\n",
    "for i in range(size_of_learn_sample):\n",
    "    point, label = learn_data[i][0], learn_data[i][1] # get true belonging for every point\n",
    "    cls1, cls2 = simple_network.run(point) # get probabilites of class belonging for every point\n",
    "    print(point, cls1, cls2, end=\": \")\n",
    "    if cls1 > cls2: # i.e. if the prediction is class 1\n",
    "        if label == (0.99, 0.01): # if true class is also class 1\n",
    "            print(\"class1 correct\", label)\n",
    "        else: # but if the true class if class 2\n",
    "            print(\"class2 incorrect\", label)\n",
    "    else: # if prediction is class 2\n",
    "        if label == (0.01, 0.99):\n",
    "            print(\"class2 correct\", label)\n",
    "        else:\n",
    "            print(\"class1 incorrect\", label)"
   ]
  },
  {
   "cell_type": "markdown",
   "metadata": {},
   "source": [
    "### 6. Adding bias\n",
    "Bias makes each layer of the NN more flexible because it allows to add an additional weight that does not depend on the output.\n",
    "Mathematically, adding a bias means that we get one more column of weights (in both wih and who matrices) and an additional '1' at the bottom of the input vector."
   ]
  },
  {
   "cell_type": "code",
   "execution_count": 137,
   "metadata": {},
   "outputs": [],
   "source": [
    "class NeuralNetwork:\n",
    "    \n",
    "    def __init__(self, no_of_in_nodes, no_of_out_nodes, no_of_hidden_nodes, learning_rate, bias=None): # initalize NN instant with certain attributes\n",
    "        self.no_of_in_nodes = no_of_in_nodes\n",
    "        self.no_of_out_nodes = no_of_out_nodes \n",
    "        self.no_of_hidden_nodes = no_of_hidden_nodes\n",
    "        self.learning_rate = learning_rate \n",
    "        self.bias = bias\n",
    "        self.create_weight_matrices() # for clarity, the weight matrix is added with an additional function (instead of defining it as an attribute now)\n",
    "        \n",
    "    def create_weight_matrices(self): # now we initialize the weight attribute of our NN\n",
    "        bias_node = 1 if self.bias else 0 # bias or no bias?\n",
    "        rad = 1 / np.sqrt(self.no_of_in_nodes + bias_node)\n",
    "        X = truncated_normal(mean=0, sd=1, low=-rad, upp=rad)\n",
    "        self.weights_in_hidden = X.rvs((self.no_of_hidden_nodes, self.no_of_in_nodes + bias_node)) # initialize wih\n",
    "        rad = 1 / np.sqrt(self.no_of_hidden_nodes + bias_node)\n",
    "        X = truncated_normal(mean=0, sd=1, low=-rad, upp=rad)\n",
    "        self.weights_hidden_out = X.rvs((self.no_of_out_nodes, self.no_of_hidden_nodes + bias_node)) # initialize who\n",
    "    \n",
    "    def train(self, input_vector, target_vector):\n",
    "        bias_node = 1 if self.bias else 0 # bias or no bias?\n",
    "        if self.bias:\n",
    "            input_vector = np.concatenate( (input_vector, [self.bias]) ) # add '1' to input vector, so that matrix algebra makes sense\n",
    "        \n",
    "        # Transpose vectors:\n",
    "        input_vector = np.array(input_vector, ndmin=2).T\n",
    "        target_vector = np.array(target_vector, ndmin=2).T\n",
    "        \n",
    "        # Compute output of hidden and output layer:\n",
    "        output_vector_hidden = sigmoid(np.dot(self.weights_in_hidden, input_vector)) \n",
    "        if self.bias:\n",
    "            output_vector_hidden = np.concatenate( (output_vector_hidden, [[self.bias]]) ) # again add '1' to 'input' vector\n",
    "        output_vector_network = sigmoid(np.dot(self.weights_hidden_out, output_vector_hidden))\n",
    "        \n",
    "        # Compute output error:\n",
    "        output_errors = target_vector - output_vector_network       \n",
    "        # Update who weights:\n",
    "        tmp = output_errors * output_vector_network * (1.0 - output_vector_network)     \n",
    "        correction = self.learning_rate  * np.dot(tmp, output_vector_hidden.T)\n",
    "        self.weights_hidden_out += correction\n",
    "        \n",
    "        # Compute hidden error:\n",
    "        hidden_errors = np.dot(self.weights_hidden_out.T, output_errors) # why?       \n",
    "        # Update wih weights:\n",
    "        tmp = hidden_errors * output_vector_hidden * (1.0 - output_vector_hidden)\n",
    "        if self.bias: # cut-off the values for the bias agian (not used for correction?)\n",
    "            correction = self.learning_rate  * np.dot(tmp, input_vector.T)[:-1,:]     \n",
    "        else:\n",
    "            correction = self.learning_rate  * np.dot(tmp, input_vector.T)\n",
    "        self.weights_in_hidden += correction\n",
    "    \n",
    "    def run(self, input_vector):\n",
    "        if self.bias:\n",
    "            input_vector = np.concatenate( (input_vector, [self.bias]) ) # again, add '1' to input vector   \n",
    "        input_vector = np.array(input_vector, ndmin=2).T # transpose vector to one-column matrix\n",
    "            \n",
    "        tmp = sigmoid(np.dot(self.weights_in_hidden, input_vector))\n",
    "        if self.bias:\n",
    "            tmp = np.concatenate( (tmp, [self.bias]) ) # add '1'\n",
    "        output_vector = sigmoid(np.dot(self.weights_hidden_out, tmp))\n",
    "\n",
    "        return output_vector"
   ]
  },
  {
   "cell_type": "code",
   "execution_count": 138,
   "metadata": {},
   "outputs": [
    {
     "data": {
      "image/png": "[encoded data removed]",
      "text/plain": [
       "<Figure size 432x288 with 1 Axes>"
      ]
     },
     "metadata": {
      "needs_background": "light"
     },
     "output_type": "display_data"
    }
   ],
   "source": [
    "# Get some sample data\n",
    "class1 = [(3, 4), (4.2, 5.3), (4, 3), (6, 5), (4, 6), (3.7, 5.8),\n",
    "          (3.2, 4.6), (5.2, 5.9), (5, 4), (7, 4), (3, 7), (4.3, 4.3) ] \n",
    "class2 = [(-3, -4), (-2, -3.5), (-1, -6), (-3, -4.3), (-4, -5.6), \n",
    "          (-3.2, -4.8), (-2.3, -4.3), (-2.7, -2.6), (-1.5, -3.6), \n",
    "          (-3.6, -5.6), (-4.5, -4.6), (-3.7, -5.8) ]\n",
    "labeled_data = []\n",
    "for el in class1:\n",
    "    labeled_data.append( [el, [1, 0]])\n",
    "for el in class2:\n",
    "    labeled_data.append([el, [0, 1]])\n",
    "  \n",
    "np.random.shuffle(labeled_data)\n",
    "data, labels = zip(*labeled_data)\n",
    "labels = np.array(labels)\n",
    "data = np.array(data)\n",
    "\n",
    "# Plot\n",
    "X, Y = zip(*data[labels[:,0] == [1]])\n",
    "plt.scatter(X, Y, c=\"r\")\n",
    "X, Y = zip(*data[labels[:,1] == [1]])\n",
    "plt.scatter(X, Y, c=\"b\")\n",
    "plt.show()"
   ]
  },
  {
   "cell_type": "code",
   "execution_count": 141,
   "metadata": {},
   "outputs": [
    {
     "data": {
      "text/plain": [
       "array([[-0.23487334,  0.03264907, -0.15125145,  0.18331348, -0.1433451 ,\n",
       "        -0.16018008,  0.1649282 , -0.10700688, -0.16627752, -0.3022884 ],\n",
       "       [-0.07122187, -0.06642894,  0.08202864,  0.21529248, -0.14903894,\n",
       "        -0.31378341, -0.25019345,  0.0261261 , -0.1632714 , -0.15260307]])"
      ]
     },
     "execution_count": 141,
     "metadata": {},
     "output_type": "execute_result"
    }
   ],
   "source": [
    "# Try out NN\n",
    "simple_network = NeuralNetwork(no_of_in_nodes=2, no_of_out_nodes=2, no_of_hidden_nodes=10, learning_rate=0.1, bias=None)\n",
    "\n",
    "# Train network, now with 20 steps\n",
    "for _ in range(20):\n",
    "    for i in range(len(data)):\n",
    "        simple_network.train(data[i], labels[i])\n",
    "\n",
    "# Check performance\n",
    "for i in range(len(data)):\n",
    "    print(labels[i])\n",
    "    print(simple_network.run(data[i]))"
   ]
  },
  {
   "cell_type": "code",
   "execution_count": 145,
   "metadata": {},
   "outputs": [
    {
     "data": {
      "text/plain": [
       "array([[-0.66650204, -0.04795117],\n",
       "       [-0.31801379,  0.43679007],\n",
       "       [ 0.51270481,  0.61093862],\n",
       "       [-0.13417574,  0.61116797],\n",
       "       [-0.0749294 , -0.07344435],\n",
       "       [-0.19670513, -0.26068466],\n",
       "       [ 0.67678246,  0.55717782],\n",
       "       [-0.4538173 ,  0.40636022],\n",
       "       [-0.21230318,  0.02976943],\n",
       "       [ 0.12909007,  0.2247982 ]])"
      ]
     },
     "execution_count": 145,
     "metadata": {},
     "output_type": "execute_result"
    }
   ],
   "source": [
    "data[1]\n",
    "simple_network.weights_in_hidden"
   ]
  },
  {
   "cell_type": "markdown",
   "metadata": {},
   "source": [
    "# III) Backpropagation\n",
    "### 1. The first step\n",
    "To improve our NN, i.e. to train it, we need to adjust every weight individually. But how do we update each weight? We look at the derivative of the cost function $C_0$ with respect to each weight $w_{ij}$. This means we look at how much the cost function changes if we adjust a certain weight in a certain direction.\n",
    "$$ \\frac{\\partial{C_0}}{\\partial{w^{(L)}_{ij}}} $$\n",
    "$$ C_0 = \\sum(a^{(L)}_j - y_j)^2 $$\n",
    "\n",
    "So, how does a weight influence the cost function? The cost function describes the difference between what our NN predicts and what it should predict (i.e. the target). The prediction of our model is the activation of an output node. The activation of an ouput node depends on the input is gets from another (hidden) node. And the input finally depends on the weight. In summary, we have a whole chain of dependencies that each influence a further step. So, to see how a weight influences the cost function, we need to look at how the weight influence the input, how the input inlfuence the activation and how the activation finally influences the cost function:\n",
    "$$ \\frac{\\partial{C_0}}{\\partial{w^{(L)}_{ij}}} = \\Big(\\frac{\\partial{C_0}}{\\partial{a^{(L)}_j}}\\Big) \\Big(\\frac{\\partial{a^{(L)}_j}}{\\partial{z^{(L)}_j}}\\Big) \\Big(\\frac{\\partial{z^{(L)}_j}}{\\partial{w^{(L)}_{ij}}}\\Big) $$\n",
    "\n",
    "- A unit change of the activation of an output node results in a two unit change of the cost function:\n",
    "$$ \\frac{\\partial{C_0}}{\\partial{a^{(L)}_j}} = 2(a^{(L)}_j - y_j) $$ \n",
    "\n",
    "- The effect of a unit change depends on the derivation of the activation function $g'^{(L)}$:\n",
    "$$ \\frac{\\partial{a^{(L)}_j}}{\\partial{z^{(L)}_j}} = g'^{(L)}(z^{(L)}_j) $$\n",
    "\n",
    "- A unit change of a weight results in a unit change of the input:\n",
    "$$ \\frac{\\partial{z^{(L)}_j}}{\\partial{w^{(L)}_{ij}}} = a^{(L-1)}_i $$\n",
    "\n",
    "$$ \\frac{\\partial{C_0}}{\\partial{w^{(L)}_{ij}}} = 2(a^{(L)}_j - y_j) (g'^{(L)}(z^{(L)}_j)) (a^{(L-1)}_i) $$\n",
    "\n",
    "Finally, we do this with many training examples (either all or batches) and take the average change of the cost function to update a weight. This we do for every weight in the network."
   ]
  },
  {
   "cell_type": "markdown",
   "metadata": {},
   "source": [
    "### 2. The backward movement\n",
    "\n",
    "To update the weights from the last hidden layer, we do almost the same thing - just with $(L-1)$ instead of $(L)$. The difference is, however, that the cost function $C_0$ is no direct function of the activation $a_j^{(L-1)}$ (so, basically, we only have to change something about how we compute the first term).\n",
    "$$ \\frac{\\partial{C_0}}{\\partial{w^{(L-1)}_{ij}}} = \\Big(\\frac{\\partial{C_0}}{\\partial{a^{(L-1)}_j}}\\Big) \\Big(\\frac{\\partial{a^{(L-1)}_j}}{\\partial{z^{(L-1)}_j}}\\Big) \\Big(\\frac{\\partial{z^{(L-1)}_j}}{\\partial{w^{(L-1)}_{ij}}}\\Big) $$\n",
    "\n",
    "To compute the first term (how the activation of a node in the hidden layer changes to cost of the whole network), we again use a very similar differentiation of the derivation. The only difference is in the last term, where we take the derivative of the input to node j in the output layer with respect to the _activation_ of node j in the previous layer. Additionally, we take the sum of all nodes in the output layer, because the activation in one of the nodes in the preivious layer affect all of them.\n",
    "\n",
    "$$ \\frac{\\partial{C_0}} {\\color{red}{\\partial{a^{(L-1)}_j}}} = \\color{red}{\\sum_{j=0}^{n-1}}\\Big(\\frac{\\partial{C_0}}{\\partial{a^{(L)}_j}}\\Big) \\Big(\\frac{\\partial{a^{(L)}_j}}{\\partial{z^{(L)}_j}}\\Big) \\Big(\\frac{\\partial{z^{(L)}_j}}{\\partial{\\color{red}{a^{(L-1)}_{j}}}}\\Big) $$\n",
    "\n",
    "This means we end up with:\n",
    "\n",
    "$$ \\frac{\\partial{C_0}}{\\color{red}{\\partial{a^{(L-1)}_j}}} = \\color{red}{\\sum_{j=0}^{n-1}}2(a^{(L)}_j - y_j) (g'^{(L)}(z^{(L)}_j)) \\color{red}{(w^{(L)}_{ij})} $$\n",
    "\n",
    "In summary, we need the weights of the next layer to update the weights of a previous layer - we have to move backwards"
   ]
  },
  {
   "cell_type": "markdown",
   "metadata": {},
   "source": [
    "### 3. Derivation of the activation function\n",
    "So far, we've only spoken about $g'(x)$ as the derivation of the activation function. If we use the sigmoid function as activation function, the derivation is:\n",
    "$$ \\frac{\\partial\\sigma(z^{(L)}_j)}{\\partial z^{(L)}_j} = \\sigma(z^{(L)}_j)(1-\\sigma(z^{(L)}_j)) $$\n",
    "\n",
    "This means for a __who__ weight we get the updates:\n",
    "$$ w^{(L)}_{ij} = w^{(L)}_{ij} + \\eta * (a^{(L)}_j - y_j) (\\sigma(z^{(L)}_j)(1-\\sigma(z^{(L)}_j))) (a^{(L-1)}_i) $$\n",
    "\n",
    "And for the __wih__ weights we get the updates:\n",
    "$$ w^{(L)}_{ij} = w^{(L)}_{ij} + \\eta * \\sum_{j=0}^{n-1}\\Big((a^{(L)}_j - y_j) (\\sigma(z^{(L)}_j)(1-\\sigma(z^{(L)}_j)))(w^{(L)}_{ij})\\Big) $$"
   ]
  },
  {
   "cell_type": "code",
   "execution_count": 136,
   "metadata": {},
   "outputs": [],
   "source": [
    "# Backpropagation with one hidden layer but without bias:\n",
    "    def train(self, input_data, target):\n",
    "        \n",
    "        # Transpose vectors:\n",
    "        input_data = np.array(input_data, ndmin=2).T\n",
    "        target = np.array(target, ndmin=2).T\n",
    "        \n",
    "        # Compute output of hidden and output layer:\n",
    "        output_hidden = sigmoid(np.dot(self.weights_in_hidden, input_data)) \n",
    "        output_network = sigmoid(np.dot(self.weights_hidden_out, output_hidden))\n",
    "        \n",
    "        # Update who weights:\n",
    "        correction = self.step_size * ((target - output_network) * output_network * (1.0 - output_network)) @ output_hidden\n",
    "        self.weights_hidden_out += correction\n",
    "        \n",
    "        # Update wih weights:\n",
    "        correction = self.step_size * ((self.weights_hidden_out.T @ (target - output_network)) * output_network * (1.0 - output_network)) @ input_data      \n",
    "        self.weights_in_hidden += correction"
   ]
  },
  {
   "cell_type": "markdown",
   "metadata": {},
   "source": [
    "# IV) Accuracy\n",
    "To evaluate how well a NN performs, we have to compare the true classes to the corresponding predicted classes. This comparison can be done using a __confusion matrix__; It displays true classes of each instance in rows and the predicted classes for each instance in columns.\n",
    "From the confusin matrix, we can compute several performance measures:\n",
    "- Accuracy: $ \\frac{TN + TP}{TN + FN + TP + FP}$\n",
    "- Recall (true positive rate): $ \\frac{TP}{FN + TP}$\n",
    "- True negative rate: $ \\frac{TN}{FP + TN}$\n",
    "- Precision: $ \\frac{TP}{FP + TP}$\n",
    "\n",
    "For more than two classes:\n",
    "- Recall$_i$: $ \\frac{M_{ii}}{\\sum_i M_{ij}}$\n",
    "- Precision$_i$: $ \\frac{M_{ii}}{\\sum_j M_{ij}}$"
   ]
  },
  {
   "cell_type": "markdown",
   "metadata": {},
   "source": [
    "# V) Overfitting\n",
    "A simple way to prevent NN from overfitting is a technique called __dropout__. Here, we randomly pick nodes in every layer and deactivate them. Mathematically, we can deactivate input nodes by setting one column of the wih weight matrix to zero. And we can deactivate hidden nodes by setting one row of the wih matrix and one column of the next wih or who matrix to zero.\n",
    "\n",
    "We use the chosen nodes for one epoch, and then take a different set for the next one."
   ]
  },
  {
   "cell_type": "markdown",
   "metadata": {},
   "source": [
    "# VI) Pipeline\n",
    "1) How many layers and nodes do I need?\n",
    "\n",
    "2) Get network with 2 hidden layers to run (especially training algorithm)\n",
    "\n",
    "3) Expand network to 784 input nodes and 800 nodes per hidden layer\n",
    "\n",
    "4) Dropout?\n",
    "\n",
    "5) Check results and make more efficient"
   ]
  }
 ],
 "metadata": {
  "kernelspec": {
   "display_name": "Python 3",
   "language": "python",
   "name": "python3"
  },
  "language_info": {
   "codemirror_mode": {
    "name": "ipython",
    "version": 3
   },
   "file_extension": ".py",
   "mimetype": "text/x-python",
   "name": "python",
   "nbconvert_exporter": "python",
   "pygments_lexer": "ipython3",
   "version": "3.7.1"
  }
 },
 "nbformat": 4,
 "nbformat_minor": 2
}
