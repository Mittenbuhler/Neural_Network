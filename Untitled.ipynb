{
 "cells": [
  {
   "cell_type": "code",
   "execution_count": 3,
   "metadata": {},
   "outputs": [],
   "source": [
    "import tkinter as tk\n",
    "from PIL import Image,ImageDraw\n",
    "\n",
    "class ImageGenerator:\n",
    "    def __init__(self,parent,posx,posy,*kwargs):\n",
    "        self.parent = parent\n",
    "        self.posx = posx\n",
    "        self.posy = posy\n",
    "        self.sizex = 200\n",
    "        self.sizey = 200\n",
    "        self.b1 = \"up\"\n",
    "        self.xold = None\n",
    "        self.yold = None \n",
    "        \n",
    "        self.drawing_area=tk.Canvas(self.parent,width=self.sizex,height=self.sizey)\n",
    "        self.drawing_area.place(x=self.posx,y=self.posy)\n",
    "        self.drawing_area.bind(\"<Motion>\", self.motion)\n",
    "        self.drawing_area.bind(\"<ButtonPress-1>\", self.b1down)\n",
    "        self.drawing_area.bind(\"<ButtonRelease-1>\", self.b1up)\n",
    "        self.button=tk.Button(self.parent,text=\"Done!\",width=10,bg='white',command=self.save)\n",
    "        self.button.place(x=self.sizex/7,y=self.sizey+20)\n",
    "        self.button1=tk.Button(self.parent,text=\"Clear!\",width=10,bg='white',command=self.clear)\n",
    "        self.button1.place(x=(self.sizex/7)+80,y=self.sizey+20)\n",
    "\n",
    "        self.image=Image.new(\"RGB\",(200,200),(255,255,255))\n",
    "        self.draw=ImageDraw.Draw(self.image)\n",
    "\n",
    "    def save(self):\n",
    "        filename = \"temp.jpg\"\n",
    "        self.image.save(filename)\n",
    "\n",
    "    def clear(self):\n",
    "        self.drawing_area.delete(\"all\")\n",
    "        self.image=Image.new(\"RGB\",(200,200),(255,255,255))\n",
    "        self.draw=ImageDraw.Draw(self.image)\n",
    "\n",
    "    def b1down(self,event):\n",
    "        self.b1 = \"down\"\n",
    "\n",
    "    def b1up(self,event):\n",
    "        self.b1 = \"up\"\n",
    "        self.xold = None\n",
    "        self.yold = None\n",
    "\n",
    "    def motion(self,event):\n",
    "        if self.b1 == \"down\":\n",
    "            if self.xold is not None and self.yold is not None:\n",
    "                event.widget.create_line(self.xold,self.yold,event.x,event.y,smooth='true',width=3,fill='blue')\n",
    "                self.draw.line(((self.xold,self.yold),(event.x,event.y)),(0,128,0),width=3)\n",
    "\n",
    "        self.xold = event.x\n",
    "        self.yold = event.y\n",
    "\n",
    "if __name__ == \"__main__\":\n",
    "    root=tk.Tk()\n",
    "    root.wm_geometry(\"%dx%d+%d+%d\" % (400, 400, 10, 10))\n",
    "    root.config(bg='white')\n",
    "    ImageGenerator(root,10,10)\n",
    "    root.mainloop()"
   ]
  },
  {
   "cell_type": "code",
   "execution_count": 4,
   "metadata": {},
   "outputs": [
    {
     "data": {
      "text/plain": [
       "'/Users/Max/Documents/Studium/Master/Semester_2/Programming/Scripts'"
      ]
     },
     "execution_count": 4,
     "metadata": {},
     "output_type": "execute_result"
    }
   ],
   "source": [
    "pwd"
   ]
  }
 ],
 "metadata": {
  "kernelspec": {
   "display_name": "Python 3",
   "language": "python",
   "name": "python3"
  },
  "language_info": {
   "codemirror_mode": {
    "name": "ipython",
    "version": 3
   },
   "file_extension": ".py",
   "mimetype": "text/x-python",
   "name": "python",
   "nbconvert_exporter": "python",
   "pygments_lexer": "ipython3",
   "version": "3.7.1"
  }
 },
 "nbformat": 4,
 "nbformat_minor": 2
}
