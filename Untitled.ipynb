{
 "cells": [
  {
   "cell_type": "markdown",
   "metadata": {},
   "source": [
    "Goals\n",
    "- generate data\n",
    "- define class\n",
    "- train NN\n",
    "- Evaluate NN"
   ]
  },
  {
   "cell_type": "code",
   "execution_count": 6,
   "metadata": {},
   "outputs": [],
   "source": [
    "import numpy as np\n",
    "from matplotlib import pyplot as plt\n",
    "%matplotlib inline\n",
    "\n",
    "data = np.random.randint(1,100,(100,2))\n",
    "def classification(data_point):\n",
    "    x,y = data_point\n",
    "    if y > x + 4:\n",
    "        return 1\n",
    "    else:\n",
    "        return 0"
   ]
  },
  {
   "cell_type": "code",
   "execution_count": 88,
   "metadata": {},
   "outputs": [],
   "source": [
    "class Perceptron:\n",
    "    \n",
    "    def __init__(self, input_length, weights=None):\n",
    "        if weights == None:\n",
    "            self.weights = np.random.random((input_length)) * 2 - 1\n",
    "        else:\n",
    "            self.weights = weights\n",
    "        self.step_size = 0.1\n",
    "    \n",
    "    @staticmethod\n",
    "    def threshold(output):\n",
    "        if output > 0:\n",
    "            return 1\n",
    "        else:\n",
    "            return 0\n",
    "    \n",
    "    def __call__(self, input_data):\n",
    "        weighted_input = self.weights * input_data\n",
    "        weighted_sum = weighted_input.sum()\n",
    "        return Perceptron.threshold(weighted_sum)\n",
    "    \n",
    "    def adjust(self, target, prediction, input_data):\n",
    "        error = target - prediction\n",
    "        for i in range(len(input_data)):\n",
    "            correction = error * input_data[i] * self.step_size\n",
    "            self.weights[i] += correction"
   ]
  },
  {
   "cell_type": "code",
   "execution_count": 89,
   "metadata": {},
   "outputs": [
    {
     "name": "stdout",
     "output_type": "stream",
     "text": [
      "92% correct\n"
     ]
    }
   ],
   "source": [
    "p = Perceptron(2)\n",
    "\n",
    "counter = 0\n",
    "for data_point in data:\n",
    "    p.adjust(classification(data_point), p(data_point), data_point)\n",
    "\n",
    "for data_point in data:\n",
    "    if classification(data_point) == p(data_point):\n",
    "        counter += 1\n",
    "\n",
    "print(str(counter) + '% correct')"
   ]
  },
  {
   "cell_type": "code",
   "execution_count": 90,
   "metadata": {},
   "outputs": [
    {
     "name": "stdout",
     "output_type": "stream",
     "text": [
      "slope: 0.9672701653288553\n"
     ]
    },
    {
     "data": {
      "image/png": "[encoded data removed]",
      "text/plain": [
       "<Figure size 432x288 with 1 Axes>"
      ]
     },
     "metadata": {
      "needs_background": "light"
     },
     "output_type": "display_data"
    }
   ],
   "source": [
    "cls = [[], []]\n",
    "for data_point in data:\n",
    "    cls[classification(data_point)].append(tuple(data_point))\n",
    "colours = (\"r\", \"b\")\n",
    "\n",
    "for i in range(2):\n",
    "    X, Y = zip(*cls[i])\n",
    "    plt.scatter(X, Y, c=colours[i])\n",
    "    \n",
    "X = np.arange(-3, 120)\n",
    "    \n",
    "m = -p.weights[0] / p.weights[1]\n",
    "print('slope: ' + str(m))\n",
    "\n",
    "plt.plot(X, m*X, label=\"ANN line\")\n",
    "plt.plot(X, (X + 4), label=\"true line\")\n",
    "plt.legend()\n",
    "plt.show()"
   ]
  },
  {
   "cell_type": "code",
   "execution_count": 39,
   "metadata": {},
   "outputs": [],
   "source": []
  }
 ],
 "metadata": {
  "kernelspec": {
   "display_name": "Python 3",
   "language": "python",
   "name": "python3"
  },
  "language_info": {
   "codemirror_mode": {
    "name": "ipython",
    "version": 3
   },
   "file_extension": ".py",
   "mimetype": "text/x-python",
   "name": "python",
   "nbconvert_exporter": "python",
   "pygments_lexer": "ipython3",
   "version": "3.7.1"
  }
 },
 "nbformat": 4,
 "nbformat_minor": 2
}
