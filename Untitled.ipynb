{
 "cells": [
  {
   "cell_type": "code",
   "execution_count": 9,
   "metadata": {},
   "outputs": [],
   "source": [
    "import numpy as np\n",
    "import random\n",
    "from nn_functions import *"
   ]
  },
  {
   "cell_type": "code",
   "execution_count": 17,
   "metadata": {},
   "outputs": [
    {
     "name": "stdout",
     "output_type": "stream",
     "text": [
      "Data preprocessed successfully\n",
      "Network created successfully\n",
      "Training...\n",
      "Epoch: 1\n",
      "Data trained successfully\n",
      "Accuracy: 8.00%\n",
      "Recall for 0: 0.00%\n",
      "Precision for 0: 0.00%\n",
      "Recall for 1: 0.00%\n",
      "Precision for 1: nan%\n",
      "Recall for 2: 0.00%\n",
      "Precision for 2: nan%\n",
      "Recall for 3: 0.00%\n",
      "Precision for 3: nan%\n",
      "Recall for 4: 7.14%\n",
      "Precision for 4: 100.00%\n",
      "Recall for 5: 0.00%\n",
      "Precision for 5: nan%\n",
      "Recall for 6: 0.00%\n",
      "Precision for 6: nan%\n",
      "Recall for 7: 46.67%\n",
      "Precision for 7: 8.24%\n",
      "Recall for 8: 0.00%\n",
      "Precision for 8: 0.00%\n",
      "Recall for 9: 0.00%\n",
      "Precision for 9: nan%\n"
     ]
    }
   ],
   "source": [
    "train_images, train_labels, test_images, test_labels = pre_processing()\n",
    "neural_network = NeuralNetwork([784,10,10], bias=True)\n",
    "prior_weights = neural_network.weights[1].copy()\n",
    "neural_network.train(train_images[:10], train_labels[:10])\n",
    "neural_network.evaluate(test_images[:100], test_labels[:100])"
   ]
  },
  {
   "cell_type": "code",
   "execution_count": 11,
   "metadata": {},
   "outputs": [
    {
     "data": {
      "text/plain": [
       "0.1182"
      ]
     },
     "execution_count": 11,
     "metadata": {},
     "output_type": "execute_result"
    }
   ],
   "source": [
    "neural_network.accuracy"
   ]
  },
  {
   "cell_type": "code",
   "execution_count": null,
   "metadata": {},
   "outputs": [],
   "source": []
  }
 ],
 "metadata": {
  "kernelspec": {
   "display_name": "Python 3",
   "language": "python",
   "name": "python3"
  },
  "language_info": {
   "codemirror_mode": {
    "name": "ipython",
    "version": 3
   },
   "file_extension": ".py",
   "mimetype": "text/x-python",
   "name": "python",
   "nbconvert_exporter": "python",
   "pygments_lexer": "ipython3",
   "version": "3.7.1"
  }
 },
 "nbformat": 4,
 "nbformat_minor": 2
}
