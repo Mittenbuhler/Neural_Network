{
 "cells": [
  {
   "cell_type": "markdown",
   "metadata": {},
   "source": [
    "# Implementing ANN using Lasagne/Theano package\n",
    "\n",
    "\n",
    "This code just provides a general framework for my project. I simply do the same but switch out the sklearn functions with my own."
   ]
  },
  {
   "cell_type": "markdown",
   "metadata": {},
   "source": [
    "## 1. Get MNIST data\n",
    "Before we start with the NN, we need to import the libraries etc. Most importantly, we need to load the training and test data that we use for the NN."
   ]
  },
  {
   "cell_type": "code",
   "execution_count": 129,
   "metadata": {},
   "outputs": [],
   "source": [
    "# Import libraries\n",
    "import idx2numpy\n",
    "import numpy as np\n",
    "import os\n",
    "import pandas as pd\n",
    "import matplotlib.pyplot as plt\n",
    "\n",
    "# Import higher level libraries (these I should not use in the final project)\n",
    "import lasagne # package to build NNs\n",
    "import theano # package for md-array computation\n",
    "import theano.tensor as T\n",
    "\n",
    "#Set working directory\n",
    "os.chdir('/Users/Max/Documents/Studium/Master/Semester 2/Programming/Data')\n",
    "\n",
    "# Load datasets as np.arrays\n",
    "train_images = idx2numpy.convert_from_file('train-images.idx3-ubyte')\n",
    "train_labels = idx2numpy.convert_from_file('train-labels.idx1-ubyte')\n",
    "test_images = idx2numpy.convert_from_file('t10k-images.idx3-ubyte')\n",
    "test_labels = idx2numpy.convert_from_file('t10k-labels.idx1-ubyte')\n",
    "\n",
    "# Divide by 256 to get values between 0 and 1\n",
    "train_images = train_images/np.float32(256)\n",
    "test_images = test_images/np.float32(256)"
   ]
  },
  {
   "cell_type": "code",
   "execution_count": 130,
   "metadata": {},
   "outputs": [
    {
     "data": {
      "image/png": "[encoded data removed]",
      "text/plain": [
       "<Figure size 432x288 with 1 Axes>"
      ]
     },
     "metadata": {
      "needs_background": "light"
     },
     "output_type": "display_data"
    },
    {
     "data": {
      "text/plain": [
       "4"
      ]
     },
     "execution_count": 130,
     "metadata": {},
     "output_type": "execute_result"
    }
   ],
   "source": [
    "# Example\n",
    "plt.show(plt.imshow(train_images[2]))\n",
    "train_labels[2]"
   ]
  },
  {
   "cell_type": "code",
   "execution_count": 131,
   "metadata": {},
   "outputs": [
    {
     "data": {
      "text/plain": [
       "(60000, 28, 28)"
      ]
     },
     "execution_count": 131,
     "metadata": {},
     "output_type": "execute_result"
    }
   ],
   "source": [
    "# Check data format\n",
    "train_images.shape"
   ]
  },
  {
   "cell_type": "markdown",
   "metadata": {},
   "source": [
    "## 2. Set-up NN\n",
    "\n",
    "With the high-level functions, we can simply define the attributes of the NN. We need to define the following:\n",
    "- Number of layers (2 hidden layers)\n",
    "- Number of nodes (800 in each hidden layer)\n",
    "- Output range (between 0 and 1)\n",
    "- Step size (0.01)\n",
    "- Momentum (0.9) - not necessary for stochastic gradient descent\n",
    "- Drop-out rates to avoid overfitting (20%/50%)"
   ]
  },
  {
   "cell_type": "code",
   "execution_count": 132,
   "metadata": {},
   "outputs": [],
   "source": [
    "# First, we write a function that builds the neural network with the attributes above\n",
    "# It takes one image ('input_var') as input, i.e. an array of size 28x28\n",
    "def build_NN(input_var=None):\n",
    "    # Set-up input layer:\n",
    "    l_in = lasagne.layers.InputLayer(shape=(None,28,28), input_var=input_var)\n",
    "    l_in_drop = lasagne.layers.DropoutLayer(l_in, p=0.2) # drop 20% to avoid overfitting\n",
    "    \n",
    "    # Set-up first hidden layer:\n",
    "    l_hid1 = lasagne.layers.DenseLayer(l_in_drop, num_units=800, \n",
    "                                       nonlinearity=lasagne.nonlinearities.rectify, \n",
    "                                       W=lasagne.init.GlorotUniform()) # just default settings here\n",
    "    l_hid1_drop = lasagne.layers.DropoutLayer(l_hid1, p=0.5) # drop 50%\n",
    "    \n",
    "    # Set-up second hidden layer (same procedure as first hidden layer):\n",
    "    l_hid2 = lasagne.layers.DenseLayer(l_hid1_drop, num_units=800, \n",
    "                                       nonlinearity=lasagne.nonlinearities.rectify, \n",
    "                                       W=lasagne.init.GlorotUniform()) # just default settings here\n",
    "    l_hid2_drop = lasagne.layers.DropoutLayer(l_hid2, p=0.5) # drop 50%\n",
    "    \n",
    "    # Set-up output layer:\n",
    "    l_out = lasagne.layers.DenseLayer(l_hid2_drop, num_units=10, \n",
    "                                      nonlinearity=lasagne.nonlinearities.softmax) #'softmax' puts numbers between 0 and 1\n",
    "    return l_out"
   ]
  },
  {
   "cell_type": "code",
   "execution_count": 133,
   "metadata": {},
   "outputs": [],
   "source": [
    "# Second, we need to tell the NN we've just set up, how to train itself (how to update the weights)\n",
    "# To do that we need some place-holder input:\n",
    "input_var = T.tensor3('inputs') # empty 3d-array\n",
    "target_var = T.ivector('targets') # empty integer vector\n",
    "\n",
    "# Build NN with these place-holders:\n",
    "network = build_NN(input_var)\n",
    "\n",
    "# Set-up training algorithm:\n",
    "# 1. Compute loss:\n",
    "prediction = lasagne.layers.get_output(network)\n",
    "loss = lasagne.objectives.categorical_crossentropy(prediction, target_var) # cross entropy is standard loss function\n",
    "loss = loss.mean()\n",
    "\n",
    "# 2. Update weights (based on loss):\n",
    "weights = lasagne.layers.get_all_params(network, trainable=True) # current value of all weights\n",
    "updates = lasagne.updates.nesterov_momentum(loss, weights, learning_rate = 0.01, momentum = 0.9) # step at each iteration\n",
    "# nesterov-momentum is a fancy version of stochastic gradient descent\n",
    "\n",
    "# 3. Put everything together into a single training step:\n",
    "train_fn = theano.function([input_var, target_var], loss, updates=updates)"
   ]
  },
  {
   "cell_type": "markdown",
   "metadata": {},
   "source": [
    "## 3. Train NN\n",
    "We have defined all the necessary attributes of the NN. Now, we need to feed it with the training data."
   ]
  },
  {
   "cell_type": "code",
   "execution_count": 135,
   "metadata": {},
   "outputs": [
    {
     "name": "stdout",
     "output_type": "stream",
     "text": [
      "Step: 0\n",
      "Step: 1\n",
      "Step: 2\n",
      "Step: 3\n",
      "Step: 4\n",
      "Step: 5\n",
      "Step: 6\n",
      "Step: 7\n",
      "Step: 8\n",
      "Step: 9\n",
      "Step: 10\n",
      "Step: 11\n",
      "Step: 12\n",
      "Step: 13\n",
      "Step: 14\n",
      "Step: 15\n",
      "Step: 16\n",
      "Step: 17\n",
      "Step: 18\n",
      "Step: 19\n",
      "Step: 20\n",
      "Step: 21\n",
      "Step: 22\n",
      "Step: 23\n",
      "Step: 24\n"
     ]
    }
   ],
   "source": [
    "n_iter = 25 # number of training steps, should be more! (just to check)\n",
    "for step in range(n_iter):\n",
    "    train_err = train_fn(train_images, train_labels)\n",
    "    print('Step: ' + str(step))"
   ]
  },
  {
   "cell_type": "markdown",
   "metadata": {},
   "source": [
    "# 4. Test NN\n",
    "Now, that we have a (hopefully) functioning neural network, we can test it on the training data. Before that, we can look at the output of it to see if it is roughly working."
   ]
  },
  {
   "cell_type": "code",
   "execution_count": 161,
   "metadata": {},
   "outputs": [
    {
     "data": {
      "text/plain": [
       "array([[0.04993272, 0.08809271, 0.07758057, 0.09077275, 0.05088764,\n",
       "        0.06416025, 0.09121133, 0.34508851, 0.02135494, 0.12091858]])"
      ]
     },
     "execution_count": 161,
     "metadata": {},
     "output_type": "execute_result"
    }
   ],
   "source": [
    "# Look at the ouput for one test image and see if its correct:\n",
    "test_prediction = lasagne.layers.get_output(network) # function to retreive output layer from network\n",
    "val_fn = theano.function([input_var], test_prediction) # function to run one image through the network and return output\n",
    "\n",
    "val_fn([test_images[0]]) # Output for the first image in the test set; from the probabilities you can tell \n",
    "# that the NN is not really confident (highest probability for number 7, but only about 26%)"
   ]
  },
  {
   "cell_type": "code",
   "execution_count": 163,
   "metadata": {},
   "outputs": [
    {
     "data": {
      "text/plain": [
       "array(0.7869)"
      ]
     },
     "execution_count": 163,
     "metadata": {},
     "output_type": "execute_result"
    }
   ],
   "source": [
    "# Check accuracy over whole test set:\n",
    "test_prediction = lasagne.layers.get_output(network, deterministic = True)\n",
    "test_acc = T.mean(T.eq(T.argmax(test_prediction, axis=1), target_var), dtype=theano.config.floatX)\n",
    "# This function matches the index of the highest value with the label and gets the mean over the complete input\n",
    "\n",
    "acc_fn = theano.function([input_var, target_var], test_acc) # function to feed dataset\n",
    "\n",
    "# Test NN on test set, return accuracy\n",
    "acc_fn(test_images, test_labels) # 80% after 25 iterations, not bad\n",
    "# could be improved by using batches of data and more iterations (and improving attributes like step size etc.)"
   ]
  }
 ],
 "metadata": {
  "kernelspec": {
   "display_name": "Python 3",
   "language": "python",
   "name": "python3"
  },
  "language_info": {
   "codemirror_mode": {
    "name": "ipython",
    "version": 3
   },
   "file_extension": ".py",
   "mimetype": "text/x-python",
   "name": "python",
   "nbconvert_exporter": "python",
   "pygments_lexer": "ipython3",
   "version": "3.7.1"
  }
 },
 "nbformat": 4,
 "nbformat_minor": 2
}
